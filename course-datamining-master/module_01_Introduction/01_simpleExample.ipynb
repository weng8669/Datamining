{
 "cells": [
  {
   "cell_type": "markdown",
   "metadata": {},
   "source": [
    "### Transform the table to a json type\n",
    "There is a file Staff.txt:\n",
    "\n",
    "| ID  |  Name | DeptId| Age | Gender | Salary |\n",
    "| --- |  ---  |  ---  | --- |  ---   | ------ |\n",
    "| 001 | Mike  | 002   | 45  |   M    | 60000  |\n",
    "| 002 | Judy  | 002   | 30  |   F    | 48000  |\n",
    "| 003 | Allen | 001   | 22  |   M    | 50000  |\n",
    "| 004 | Tom   | 002   | 47  |   M    | 47000  |\n",
    "| 005 | Jack  | 003   | 36  |   M    | 52000  |\n",
    "| 006 | Abby  | 002   | 24  |   F    | 45000  |\n",
    "| 007 | Trump | 001   | 80  |   M    | 80000  |\n",
    "| 008 | Marry | 003   | 29  |   F    | 87000  |\n",
    "\n",
    "Tyr to transform it to json type<br>\n",
    "Just like this:\n",
    "```json\n",
    "{\n",
    "    '001': {\n",
    "        'ID': '001',\n",
    "        'Name': 'Mike',\n",
    "        'DeptId': '002',\n",
    "        'Age': '45',\n",
    "        'Gender': 'M',\n",
    "        'Salary': '60000'\n",
    "    },\n",
    "    '002': {\n",
    "        'ID': '002',\n",
    "        'Name': 'Judy',\n",
    "        'DeptId': '002',\n",
    "        'Age': '30',\n",
    "        'Gender': 'F',\n",
    "        'Salary': '48000'\n",
    "    },\n",
    "    '003': {\n",
    "        'ID': '003',\n",
    "        'Name': 'Allen',\n",
    "        'DeptId': '001',\n",
    "        'Age': '22',\n",
    "        'Gender': 'M',\n",
    "        'Salary': '50000'\n",
    "    },\n",
    "            .\n",
    "            .\n",
    "            .\n",
    "}\n",
    "```"
   ]
  },
  {
   "cell_type": "code",
   "execution_count": 1,
   "metadata": {},
   "outputs": [
    {
     "data": {
      "text/plain": [
       "['| ID  |  Name | DeptId| Age | Gender | Salary |\\n',\n",
       " '| --- |  ---  |  ---  | --- |  ---   | ------ |\\n',\n",
       " '| 001 | Mike  | 002   | 45  |   M    | 60000  |\\n',\n",
       " '| 002 | Judy  | 002   | 30  |   F    | 48000  |\\n',\n",
       " '| 003 | Allen | 001   | 22  |   M    | 50000  |\\n',\n",
       " '| 004 | Tom   | 002   | 47  |   M    | 47000  |\\n',\n",
       " '| 005 | Jack  | 003   | 36  |   M    | 52000  |\\n',\n",
       " '| 006 | Abby  | 002   | 24  |   F    | 45000  |\\n',\n",
       " '| 007 | Trump | 001   | 80  |   M    | 80000  |\\n',\n",
       " '| 008 | Marry | 003   | 29  |   F    | 87000  |']"
      ]
     },
     "execution_count": 1,
     "metadata": {},
     "output_type": "execute_result"
    }
   ],
   "source": [
    "# Open the txt file\n",
    "filename = r'Staff.txt'\n",
    "\n",
    "with open(filename, 'r', encoding='utf-8') as f:\n",
    "    table = f.readlines()\n",
    "\n",
    "# Press \"Ctrl + Enter\" or \"Shift + Enter\" to execute this block\n",
    "# to have a look at the \"table string\".\n",
    "table"
   ]
  },
  {
   "cell_type": "code",
   "execution_count": 2,
   "metadata": {},
   "outputs": [
    {
     "data": {
      "text/plain": [
       "['|ID|Name|DeptId|Age|Gender|Salary|',\n",
       " '|---|---|---|---|---|------|',\n",
       " '|001|Mike|002|45|M|60000|',\n",
       " '|002|Judy|002|30|F|48000|',\n",
       " '|003|Allen|001|22|M|50000|',\n",
       " '|004|Tom|002|47|M|47000|',\n",
       " '|005|Jack|003|36|M|52000|',\n",
       " '|006|Abby|002|24|F|45000|',\n",
       " '|007|Trump|001|80|M|80000|',\n",
       " '|008|Marry|003|29|F|87000|']"
      ]
     },
     "execution_count": 2,
     "metadata": {},
     "output_type": "execute_result"
    }
   ],
   "source": [
    "# We don't need the \"\\n\" and \"blank, so replace them\"\n",
    "table = [r.replace('\\n', '').replace(' ', '') for r in table]\n",
    "table"
   ]
  },
  {
   "cell_type": "code",
   "execution_count": 3,
   "metadata": {},
   "outputs": [
    {
     "data": {
      "text/plain": [
       "'|ID|Name|DeptId|Age|Gender|Salary|'"
      ]
     },
     "execution_count": 3,
     "metadata": {},
     "output_type": "execute_result"
    }
   ],
   "source": [
    "# To get column, we need only the 0th object in the list\n",
    "table[0]"
   ]
  },
  {
   "cell_type": "code",
   "execution_count": 4,
   "metadata": {},
   "outputs": [
    {
     "data": {
      "text/plain": [
       "['', 'ID', 'Name', 'DeptId', 'Age', 'Gender', 'Salary', '']"
      ]
     },
     "execution_count": 4,
     "metadata": {},
     "output_type": "execute_result"
    }
   ],
   "source": [
    "# Transform the table[0] string to a column list\n",
    "# But there are two blanks except for the column names, and we don't need them\n",
    "column = table[0].split('|')\n",
    "column"
   ]
  },
  {
   "cell_type": "code",
   "execution_count": 5,
   "metadata": {},
   "outputs": [
    {
     "data": {
      "text/plain": [
       "['ID', 'Name', 'DeptId', 'Age', 'Gender', 'Salary']"
      ]
     },
     "execution_count": 5,
     "metadata": {},
     "output_type": "execute_result"
    }
   ],
   "source": [
    "# Extract the column part\n",
    "# Now we got column list\n",
    "column = column[1:-1]\n",
    "column"
   ]
  },
  {
   "cell_type": "code",
   "execution_count": 6,
   "metadata": {},
   "outputs": [
    {
     "data": {
      "text/plain": [
       "['|001|Mike|002|45|M|60000|',\n",
       " '|002|Judy|002|30|F|48000|',\n",
       " '|003|Allen|001|22|M|50000|',\n",
       " '|004|Tom|002|47|M|47000|',\n",
       " '|005|Jack|003|36|M|52000|',\n",
       " '|006|Abby|002|24|F|45000|',\n",
       " '|007|Trump|001|80|M|80000|',\n",
       " '|008|Marry|003|29|F|87000|']"
      ]
     },
     "execution_count": 6,
     "metadata": {},
     "output_type": "execute_result"
    }
   ],
   "source": [
    "# And then transform the datas part in \"table\"\n",
    "# Extract datas from the index 2 in table\n",
    "table[2:]"
   ]
  },
  {
   "cell_type": "code",
   "execution_count": 7,
   "metadata": {},
   "outputs": [
    {
     "data": {
      "text/plain": [
       "[['001', 'Mike', '002', '45', 'M', '60000'],\n",
       " ['002', 'Judy', '002', '30', 'F', '48000'],\n",
       " ['003', 'Allen', '001', '22', 'M', '50000'],\n",
       " ['004', 'Tom', '002', '47', 'M', '47000'],\n",
       " ['005', 'Jack', '003', '36', 'M', '52000'],\n",
       " ['006', 'Abby', '002', '24', 'F', '45000'],\n",
       " ['007', 'Trump', '001', '80', 'M', '80000'],\n",
       " ['008', 'Marry', '003', '29', 'F', '87000']]"
      ]
     },
     "execution_count": 7,
     "metadata": {},
     "output_type": "execute_result"
    }
   ],
   "source": [
    "# Transform the data just like you transform the column\n",
    "data = [r.split('|')[1:-1] for r in table[2:]]\n",
    "data"
   ]
  },
  {
   "cell_type": "code",
   "execution_count": 8,
   "metadata": {
    "scrolled": false
   },
   "outputs": [
    {
     "data": {
      "text/plain": [
       "{'001': {'ID': '001',\n",
       "  'Name': 'Mike',\n",
       "  'DeptId': '002',\n",
       "  'Age': '45',\n",
       "  'Gender': 'M',\n",
       "  'Salary': '60000'},\n",
       " '002': {'ID': '002',\n",
       "  'Name': 'Judy',\n",
       "  'DeptId': '002',\n",
       "  'Age': '30',\n",
       "  'Gender': 'F',\n",
       "  'Salary': '48000'},\n",
       " '003': {'ID': '003',\n",
       "  'Name': 'Allen',\n",
       "  'DeptId': '001',\n",
       "  'Age': '22',\n",
       "  'Gender': 'M',\n",
       "  'Salary': '50000'},\n",
       " '004': {'ID': '004',\n",
       "  'Name': 'Tom',\n",
       "  'DeptId': '002',\n",
       "  'Age': '47',\n",
       "  'Gender': 'M',\n",
       "  'Salary': '47000'},\n",
       " '005': {'ID': '005',\n",
       "  'Name': 'Jack',\n",
       "  'DeptId': '003',\n",
       "  'Age': '36',\n",
       "  'Gender': 'M',\n",
       "  'Salary': '52000'},\n",
       " '006': {'ID': '006',\n",
       "  'Name': 'Abby',\n",
       "  'DeptId': '002',\n",
       "  'Age': '24',\n",
       "  'Gender': 'F',\n",
       "  'Salary': '45000'},\n",
       " '007': {'ID': '007',\n",
       "  'Name': 'Trump',\n",
       "  'DeptId': '001',\n",
       "  'Age': '80',\n",
       "  'Gender': 'M',\n",
       "  'Salary': '80000'},\n",
       " '008': {'ID': '008',\n",
       "  'Name': 'Marry',\n",
       "  'DeptId': '003',\n",
       "  'Age': '29',\n",
       "  'Gender': 'F',\n",
       "  'Salary': '87000'}}"
      ]
     },
     "execution_count": 8,
     "metadata": {},
     "output_type": "execute_result"
    }
   ],
   "source": [
    "# Combine column part and data part, and generate a json\n",
    "jsdata = {staff[0]: {column[col]: dt for col, dt in enumerate(staff)} for staff in data}\n",
    "jsdata"
   ]
  },
  {
   "cell_type": "code",
   "execution_count": 9,
   "metadata": {},
   "outputs": [
    {
     "data": {
      "text/plain": [
       "'{\"001\": {\"ID\": \"001\", \"Name\": \"Mike\", \"DeptId\": \"002\", \"Age\": \"45\", \"Gender\": \"M\", \"Salary\": \"60000\"}, \"002\": {\"ID\": \"002\", \"Name\": \"Judy\", \"DeptId\": \"002\", \"Age\": \"30\", \"Gender\": \"F\", \"Salary\": \"48000\"}, \"003\": {\"ID\": \"003\", \"Name\": \"Allen\", \"DeptId\": \"001\", \"Age\": \"22\", \"Gender\": \"M\", \"Salary\": \"50000\"}, \"004\": {\"ID\": \"004\", \"Name\": \"Tom\", \"DeptId\": \"002\", \"Age\": \"47\", \"Gender\": \"M\", \"Salary\": \"47000\"}, \"005\": {\"ID\": \"005\", \"Name\": \"Jack\", \"DeptId\": \"003\", \"Age\": \"36\", \"Gender\": \"M\", \"Salary\": \"52000\"}, \"006\": {\"ID\": \"006\", \"Name\": \"Abby\", \"DeptId\": \"002\", \"Age\": \"24\", \"Gender\": \"F\", \"Salary\": \"45000\"}, \"007\": {\"ID\": \"007\", \"Name\": \"Trump\", \"DeptId\": \"001\", \"Age\": \"80\", \"Gender\": \"M\", \"Salary\": \"80000\"}, \"008\": {\"ID\": \"008\", \"Name\": \"Marry\", \"DeptId\": \"003\", \"Age\": \"29\", \"Gender\": \"F\", \"Salary\": \"87000\"}}'"
      ]
     },
     "execution_count": 9,
     "metadata": {},
     "output_type": "execute_result"
    }
   ],
   "source": [
    "# Turn it to a json string\n",
    "import json\n",
    "jsdata_str = json.dumps(jsdata)\n",
    "jsdata_str"
   ]
  },
  {
   "cell_type": "code",
   "execution_count": 10,
   "metadata": {},
   "outputs": [],
   "source": [
    "# Save the json string as a text file\n",
    "with open(r'./Staff.json', 'w', encoding='utf-8') as f:\n",
    "    f.write(jsdata_str)"
   ]
  },
  {
   "cell_type": "code",
   "execution_count": null,
   "metadata": {},
   "outputs": [],
   "source": []
  }
 ],
 "metadata": {
  "kernelspec": {
   "display_name": "Python 3",
   "language": "python",
   "name": "python3"
  },
  "language_info": {
   "codemirror_mode": {
    "name": "ipython",
    "version": 3
   },
   "file_extension": ".py",
   "mimetype": "text/x-python",
   "name": "python",
   "nbconvert_exporter": "python",
   "pygments_lexer": "ipython3",
   "version": "3.7.0"
  }
 },
 "nbformat": 4,
 "nbformat_minor": 4
}
