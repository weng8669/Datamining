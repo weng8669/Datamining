{
 "cells": [
  {
   "cell_type": "code",
   "execution_count": 1,
   "id": "5f2fb117",
   "metadata": {},
   "outputs": [
    {
     "name": "stdout",
     "output_type": "stream",
     "text": [
      "UNIX Time: 1663686814.770985\n",
      "本地時間為: time.struct_time(tm_year=2022, tm_mon=9, tm_mday=20, tm_hour=23, tm_min=13, tm_sec=34, tm_wday=1, tm_yday=263, tm_isdst=0)\n",
      "世界標準時間為: time.struct_time(tm_year=2022, tm_mon=9, tm_mday=20, tm_hour=15, tm_min=13, tm_sec=34, tm_wday=1, tm_yday=263, tm_isdst=0)\n",
      "本地時間可讀化: Tue Sep 20 23:13:34 2022\n",
      "年份:2022, 時間:23:13:34\n",
      "現在UTC時間為今年第 263 天, Tue Sep 20 15:13:34 2022\n"
     ]
    }
   ],
   "source": [
    "import time\n",
    "\n",
    "unix_sec = time.time()\n",
    "loc_time = time.localtime()\n",
    "utc_time = time.gmtime()\n",
    "readable_time = time.asctime()\n",
    "\n",
    "print('UNIX Time:', unix_sec)\n",
    "print('本地時間為:', loc_time)\n",
    "print('世界標準時間為:', utc_time)\n",
    "print('本地時間可讀化:', readable_time)\n",
    "\n",
    "## 時間日期格式化範例\n",
    "loc_time_str = time.strftime('年份:%Y, 時間:%X', loc_time)\n",
    "utc_time_str = time.strftime('現在UTC時間為今年第 %j 天, %c', utc_time)\n",
    "print(loc_time_str)\n",
    "print(utc_time_str)"
   ]
  },
  {
   "cell_type": "code",
   "execution_count": 2,
   "id": "50f407e8",
   "metadata": {},
   "outputs": [],
   "source": [
    "import datetime"
   ]
  },
  {
   "cell_type": "code",
   "execution_count": 3,
   "id": "5fd408f7",
   "metadata": {},
   "outputs": [
    {
     "data": {
      "text/plain": [
       "datetime.datetime(2022, 8, 28, 0, 0)"
      ]
     },
     "execution_count": 3,
     "metadata": {},
     "output_type": "execute_result"
    }
   ],
   "source": [
    "datetimeObj = datetime.datetime(2022, 8, 28)\n",
    "datetimeObj"
   ]
  },
  {
   "cell_type": "code",
   "execution_count": 4,
   "id": "a6c980a1",
   "metadata": {},
   "outputs": [
    {
     "data": {
      "text/plain": [
       "'2022-08-28'"
      ]
     },
     "execution_count": 4,
     "metadata": {},
     "output_type": "execute_result"
    }
   ],
   "source": [
    "datetimeObj.strftime(\"%Y-%m-%d\")"
   ]
  },
  {
   "cell_type": "code",
   "execution_count": 5,
   "id": "92d36e0b",
   "metadata": {},
   "outputs": [
    {
     "data": {
      "text/plain": [
       "'2022-08-28'"
      ]
     },
     "execution_count": 5,
     "metadata": {},
     "output_type": "execute_result"
    }
   ],
   "source": [
    "datetime.datetime.strftime(datetimeObj, \"%Y-%m-%d\")"
   ]
  },
  {
   "cell_type": "code",
   "execution_count": 6,
   "id": "e8a21e52",
   "metadata": {},
   "outputs": [
    {
     "data": {
      "text/plain": [
       "datetime.datetime(2022, 4, 25, 0, 0)"
      ]
     },
     "execution_count": 6,
     "metadata": {},
     "output_type": "execute_result"
    }
   ],
   "source": [
    "datetime.datetime.strptime(\"2022/04/25\", \"%Y/%m/%d\")"
   ]
  },
  {
   "cell_type": "code",
   "execution_count": 7,
   "id": "e95ca374",
   "metadata": {},
   "outputs": [
    {
     "data": {
      "text/plain": [
       "datetime.datetime(2022, 9, 2, 0, 0)"
      ]
     },
     "execution_count": 7,
     "metadata": {},
     "output_type": "execute_result"
    }
   ],
   "source": [
    "datetimeObj = datetime.datetime(2022, 8, 28)\n",
    "datetime.timedelta(days=5) + datetimeObj"
   ]
  },
  {
   "cell_type": "code",
   "execution_count": 8,
   "id": "082788ad",
   "metadata": {},
   "outputs": [
    {
     "data": {
      "text/plain": [
       "datetime.datetime(2022, 8, 23, 0, 0)"
      ]
     },
     "execution_count": 8,
     "metadata": {},
     "output_type": "execute_result"
    }
   ],
   "source": [
    "datetimeObj = datetime.datetime(2022, 8, 28)\n",
    "datetimeObj - datetime.timedelta(days=5)"
   ]
  },
  {
   "cell_type": "code",
   "execution_count": 9,
   "id": "5dedd8c8",
   "metadata": {},
   "outputs": [
    {
     "data": {
      "text/plain": [
       "datetime.datetime(2022, 8, 23, 0, 0)"
      ]
     },
     "execution_count": 9,
     "metadata": {},
     "output_type": "execute_result"
    }
   ],
   "source": [
    "datetimeObj = datetime.datetime(2022, 8, 28)\n",
    "datetimeObj + datetime.timedelta(days=-5)"
   ]
  },
  {
   "cell_type": "code",
   "execution_count": null,
   "id": "3b789816",
   "metadata": {},
   "outputs": [],
   "source": []
  },
  {
   "cell_type": "code",
   "execution_count": null,
   "id": "65602bae",
   "metadata": {},
   "outputs": [],
   "source": []
  }
 ],
 "metadata": {
  "kernelspec": {
   "display_name": "Python 3 (ipykernel)",
   "language": "python",
   "name": "python3"
  },
  "language_info": {
   "codemirror_mode": {
    "name": "ipython",
    "version": 3
   },
   "file_extension": ".py",
   "mimetype": "text/x-python",
   "name": "python",
   "nbconvert_exporter": "python",
   "pygments_lexer": "ipython3",
   "version": "3.8.2"
  }
 },
 "nbformat": 4,
 "nbformat_minor": 5
}
