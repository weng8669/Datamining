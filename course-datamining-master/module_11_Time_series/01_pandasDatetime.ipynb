{
 "cells": [
  {
   "cell_type": "code",
   "execution_count": 1,
   "id": "a5d6cd9b",
   "metadata": {},
   "outputs": [],
   "source": [
    "import pandas as pd"
   ]
  },
  {
   "cell_type": "code",
   "execution_count": 2,
   "id": "f0d6b507",
   "metadata": {},
   "outputs": [
    {
     "data": {
      "text/html": [
       "<div>\n",
       "<style scoped>\n",
       "    .dataframe tbody tr th:only-of-type {\n",
       "        vertical-align: middle;\n",
       "    }\n",
       "\n",
       "    .dataframe tbody tr th {\n",
       "        vertical-align: top;\n",
       "    }\n",
       "\n",
       "    .dataframe thead th {\n",
       "        text-align: right;\n",
       "    }\n",
       "</style>\n",
       "<table border=\"1\" class=\"dataframe\">\n",
       "  <thead>\n",
       "    <tr style=\"text-align: right;\">\n",
       "      <th></th>\n",
       "      <th>ID</th>\n",
       "      <th>Level</th>\n",
       "      <th>UpdateDate</th>\n",
       "    </tr>\n",
       "  </thead>\n",
       "  <tbody>\n",
       "    <tr>\n",
       "      <th>0</th>\n",
       "      <td>1</td>\n",
       "      <td>A</td>\n",
       "      <td>2019-08-09</td>\n",
       "    </tr>\n",
       "    <tr>\n",
       "      <th>1</th>\n",
       "      <td>1</td>\n",
       "      <td>S</td>\n",
       "      <td>2020-12-08</td>\n",
       "    </tr>\n",
       "    <tr>\n",
       "      <th>2</th>\n",
       "      <td>2</td>\n",
       "      <td>A</td>\n",
       "      <td>2021-05-30</td>\n",
       "    </tr>\n",
       "    <tr>\n",
       "      <th>3</th>\n",
       "      <td>3</td>\n",
       "      <td>A</td>\n",
       "      <td>2018-03-26</td>\n",
       "    </tr>\n",
       "    <tr>\n",
       "      <th>4</th>\n",
       "      <td>3</td>\n",
       "      <td>S</td>\n",
       "      <td>2020-12-08</td>\n",
       "    </tr>\n",
       "    <tr>\n",
       "      <th>5</th>\n",
       "      <td>4</td>\n",
       "      <td>A</td>\n",
       "      <td>2022-05-02</td>\n",
       "    </tr>\n",
       "    <tr>\n",
       "      <th>6</th>\n",
       "      <td>5</td>\n",
       "      <td>A</td>\n",
       "      <td>2019-11-05</td>\n",
       "    </tr>\n",
       "    <tr>\n",
       "      <th>7</th>\n",
       "      <td>5</td>\n",
       "      <td>S</td>\n",
       "      <td>2022-04-25</td>\n",
       "    </tr>\n",
       "    <tr>\n",
       "      <th>8</th>\n",
       "      <td>6</td>\n",
       "      <td>A</td>\n",
       "      <td>2022-03-03</td>\n",
       "    </tr>\n",
       "    <tr>\n",
       "      <th>9</th>\n",
       "      <td>7</td>\n",
       "      <td>A</td>\n",
       "      <td>2017-03-29</td>\n",
       "    </tr>\n",
       "    <tr>\n",
       "      <th>10</th>\n",
       "      <td>7</td>\n",
       "      <td>S</td>\n",
       "      <td>2018-05-02</td>\n",
       "    </tr>\n",
       "    <tr>\n",
       "      <th>11</th>\n",
       "      <td>7</td>\n",
       "      <td>M</td>\n",
       "      <td>2021-09-01</td>\n",
       "    </tr>\n",
       "    <tr>\n",
       "      <th>12</th>\n",
       "      <td>8</td>\n",
       "      <td>A</td>\n",
       "      <td>2018-11-26</td>\n",
       "    </tr>\n",
       "    <tr>\n",
       "      <th>13</th>\n",
       "      <td>8</td>\n",
       "      <td>S</td>\n",
       "      <td>2020-03-15</td>\n",
       "    </tr>\n",
       "    <tr>\n",
       "      <th>14</th>\n",
       "      <td>8</td>\n",
       "      <td>M</td>\n",
       "      <td>2022-05-03</td>\n",
       "    </tr>\n",
       "  </tbody>\n",
       "</table>\n",
       "</div>"
      ],
      "text/plain": [
       "    ID Level  UpdateDate\n",
       "0    1     A  2019-08-09\n",
       "1    1     S  2020-12-08\n",
       "2    2     A  2021-05-30\n",
       "3    3     A  2018-03-26\n",
       "4    3     S  2020-12-08\n",
       "5    4     A  2022-05-02\n",
       "6    5     A  2019-11-05\n",
       "7    5     S  2022-04-25\n",
       "8    6     A  2022-03-03\n",
       "9    7     A  2017-03-29\n",
       "10   7     S  2018-05-02\n",
       "11   7     M  2021-09-01\n",
       "12   8     A  2018-11-26\n",
       "13   8     S  2020-03-15\n",
       "14   8     M  2022-05-03"
      ]
     },
     "execution_count": 2,
     "metadata": {},
     "output_type": "execute_result"
    }
   ],
   "source": [
    "filename = \"staff_detail.csv\"\n",
    "df = pd.read_csv(filename)\n",
    "df"
   ]
  },
  {
   "cell_type": "code",
   "execution_count": 3,
   "id": "313649ea",
   "metadata": {},
   "outputs": [
    {
     "data": {
      "text/plain": [
       "0     2019-08-09\n",
       "1     2020-12-08\n",
       "2     2021-05-30\n",
       "3     2018-03-26\n",
       "4     2020-12-08\n",
       "5     2022-05-02\n",
       "6     2019-11-05\n",
       "7     2022-04-25\n",
       "8     2022-03-03\n",
       "9     2017-03-29\n",
       "10    2018-05-02\n",
       "11    2021-09-01\n",
       "12    2018-11-26\n",
       "13    2020-03-15\n",
       "14    2022-05-03\n",
       "Name: UpdateDate, dtype: object"
      ]
     },
     "execution_count": 3,
     "metadata": {},
     "output_type": "execute_result"
    }
   ],
   "source": [
    "# Get Series\n",
    "df.UpdateDate"
   ]
  },
  {
   "cell_type": "code",
   "execution_count": 4,
   "id": "ea8b5e93",
   "metadata": {},
   "outputs": [
    {
     "data": {
      "text/plain": [
       "0    2019-08-09\n",
       "1    2020-12-08\n",
       "2    2021-05-30\n",
       "3    2018-03-26\n",
       "4    2020-12-08\n",
       "5    2022-05-02\n",
       "6    2019-11-05\n",
       "7    2022-04-25\n",
       "8    2022-03-03\n",
       "9    2017-03-29\n",
       "10   2018-05-02\n",
       "11   2021-09-01\n",
       "12   2018-11-26\n",
       "13   2020-03-15\n",
       "14   2022-05-03\n",
       "Name: UpdateDate, dtype: datetime64[ns]"
      ]
     },
     "execution_count": 4,
     "metadata": {},
     "output_type": "execute_result"
    }
   ],
   "source": [
    "# Convert datetime-format-string to pandas' Datetime\n",
    "pd.to_datetime(df.UpdateDate)"
   ]
  },
  {
   "cell_type": "code",
   "execution_count": 5,
   "id": "6ac0a745",
   "metadata": {},
   "outputs": [
    {
     "data": {
      "text/plain": [
       "Timestamp('2019-08-09 00:00:00+0200', tz='Europe/Berlin')"
      ]
     },
     "execution_count": 5,
     "metadata": {},
     "output_type": "execute_result"
    }
   ],
   "source": [
    "pd.to_datetime(df.UpdateDate)[0].tz_localize(\"Europe/Berlin\")"
   ]
  },
  {
   "cell_type": "code",
   "execution_count": 6,
   "id": "7afeea02",
   "metadata": {},
   "outputs": [
    {
     "data": {
      "text/plain": [
       "Timestamp('2019-08-09 00:00:00+0100', tz='Europe/London')"
      ]
     },
     "execution_count": 6,
     "metadata": {},
     "output_type": "execute_result"
    }
   ],
   "source": [
    "pd.to_datetime(df.UpdateDate)[0].tz_localize(\"Europe/London\")"
   ]
  },
  {
   "cell_type": "code",
   "execution_count": 7,
   "id": "56dd73b6",
   "metadata": {},
   "outputs": [
    {
     "data": {
      "text/plain": [
       "Timestamp('2019-08-09 08:00:00+0900', tz='Asia/Tokyo')"
      ]
     },
     "execution_count": 7,
     "metadata": {},
     "output_type": "execute_result"
    }
   ],
   "source": [
    "pd.to_datetime(df.UpdateDate)[0].tz_localize(\"Europe/London\").tz_convert(\"Asia/Tokyo\")"
   ]
  },
  {
   "cell_type": "code",
   "execution_count": 8,
   "id": "38c4b6a8",
   "metadata": {},
   "outputs": [
    {
     "data": {
      "text/plain": [
       "Timestamp('2019-08-09 00:00:00+0900', tz='Asia/Tokyo')"
      ]
     },
     "execution_count": 8,
     "metadata": {},
     "output_type": "execute_result"
    }
   ],
   "source": [
    "pd.to_datetime(df.UpdateDate)[0].tz_localize(\"Asia/Tokyo\")"
   ]
  },
  {
   "cell_type": "code",
   "execution_count": 9,
   "id": "9917cec3",
   "metadata": {},
   "outputs": [
    {
     "data": {
      "text/plain": [
       "Timestamp('2019-08-09 00:00:00-0500', tz='US/Central')"
      ]
     },
     "execution_count": 9,
     "metadata": {},
     "output_type": "execute_result"
    }
   ],
   "source": [
    "pd.to_datetime(df.UpdateDate)[0].tz_localize(\"US/Central\")"
   ]
  },
  {
   "cell_type": "code",
   "execution_count": 10,
   "id": "c80404bd",
   "metadata": {},
   "outputs": [
    {
     "data": {
      "text/plain": [
       "0"
      ]
     },
     "execution_count": 10,
     "metadata": {},
     "output_type": "execute_result"
    }
   ],
   "source": [
    "pd.to_datetime(df.UpdateDate)[0].tz_localize(\"US/Central\").hour"
   ]
  },
  {
   "cell_type": "code",
   "execution_count": 11,
   "id": "1d48834d",
   "metadata": {},
   "outputs": [],
   "source": [
    "converted_dt = pd.to_datetime(df.UpdateDate)[0].tz_localize(\"US/Central\")"
   ]
  },
  {
   "cell_type": "code",
   "execution_count": 12,
   "id": "543e5105",
   "metadata": {},
   "outputs": [
    {
     "data": {
      "text/plain": [
       "Timestamp('2019-08-09 00:00:00-0500', tz='US/Central')"
      ]
     },
     "execution_count": 12,
     "metadata": {},
     "output_type": "execute_result"
    }
   ],
   "source": [
    "converted_dt"
   ]
  },
  {
   "cell_type": "code",
   "execution_count": 13,
   "id": "da56b21b",
   "metadata": {},
   "outputs": [
    {
     "data": {
      "text/plain": [
       "numpy.datetime64('2019-08-09T05:00:00.000000000')"
      ]
     },
     "execution_count": 13,
     "metadata": {},
     "output_type": "execute_result"
    }
   ],
   "source": [
    "converted_dt.asm8"
   ]
  },
  {
   "cell_type": "code",
   "execution_count": 14,
   "id": "5504d945",
   "metadata": {},
   "outputs": [
    {
     "data": {
      "text/plain": [
       "5"
      ]
     },
     "execution_count": 14,
     "metadata": {},
     "output_type": "execute_result"
    }
   ],
   "source": [
    "pd.to_datetime(converted_dt.asm8).hour"
   ]
  },
  {
   "cell_type": "code",
   "execution_count": 15,
   "id": "a53c0a1f",
   "metadata": {},
   "outputs": [
    {
     "data": {
      "text/plain": [
       "9"
      ]
     },
     "execution_count": 15,
     "metadata": {},
     "output_type": "execute_result"
    }
   ],
   "source": [
    "pd.to_datetime(converted_dt.asm8).day"
   ]
  },
  {
   "cell_type": "code",
   "execution_count": 16,
   "id": "9130e190",
   "metadata": {},
   "outputs": [],
   "source": [
    "converted_dt = pd.to_datetime(df.UpdateDate)[0].tz_localize(\"Asia/Tokyo\")"
   ]
  },
  {
   "cell_type": "code",
   "execution_count": 17,
   "id": "61cca832",
   "metadata": {},
   "outputs": [
    {
     "data": {
      "text/plain": [
       "Timestamp('2019-08-09 00:00:00+0900', tz='Asia/Tokyo')"
      ]
     },
     "execution_count": 17,
     "metadata": {},
     "output_type": "execute_result"
    }
   ],
   "source": [
    "converted_dt"
   ]
  },
  {
   "cell_type": "code",
   "execution_count": 18,
   "id": "bcb3c7d3",
   "metadata": {},
   "outputs": [
    {
     "data": {
      "text/plain": [
       "numpy.datetime64('2019-08-08T15:00:00.000000000')"
      ]
     },
     "execution_count": 18,
     "metadata": {},
     "output_type": "execute_result"
    }
   ],
   "source": [
    "converted_dt.asm8"
   ]
  },
  {
   "cell_type": "code",
   "execution_count": 19,
   "id": "120c683b",
   "metadata": {},
   "outputs": [
    {
     "data": {
      "text/plain": [
       "15"
      ]
     },
     "execution_count": 19,
     "metadata": {},
     "output_type": "execute_result"
    }
   ],
   "source": [
    "pd.to_datetime(converted_dt.asm8).hour"
   ]
  },
  {
   "cell_type": "code",
   "execution_count": 20,
   "id": "e33c1b5f",
   "metadata": {},
   "outputs": [
    {
     "data": {
      "text/plain": [
       "8"
      ]
     },
     "execution_count": 20,
     "metadata": {},
     "output_type": "execute_result"
    }
   ],
   "source": [
    "pd.to_datetime(converted_dt.asm8).day"
   ]
  },
  {
   "cell_type": "code",
   "execution_count": 21,
   "id": "279381f6",
   "metadata": {},
   "outputs": [
    {
     "data": {
      "text/html": [
       "<div>\n",
       "<style scoped>\n",
       "    .dataframe tbody tr th:only-of-type {\n",
       "        vertical-align: middle;\n",
       "    }\n",
       "\n",
       "    .dataframe tbody tr th {\n",
       "        vertical-align: top;\n",
       "    }\n",
       "\n",
       "    .dataframe thead th {\n",
       "        text-align: right;\n",
       "    }\n",
       "</style>\n",
       "<table border=\"1\" class=\"dataframe\">\n",
       "  <thead>\n",
       "    <tr style=\"text-align: right;\">\n",
       "      <th></th>\n",
       "      <th>job_id</th>\n",
       "      <th>job_name</th>\n",
       "      <th>job_state</th>\n",
       "      <th>product_name</th>\n",
       "      <th>start_dt</th>\n",
       "      <th>modified_dt</th>\n",
       "    </tr>\n",
       "  </thead>\n",
       "  <tbody>\n",
       "    <tr>\n",
       "      <th>0</th>\n",
       "      <td>job_202205251719_1653470393.2947276</td>\n",
       "      <td>prod04_userinfo_SQLs</td>\n",
       "      <td>done</td>\n",
       "      <td>prod04_prod</td>\n",
       "      <td>2022-05-25 09:19:53</td>\n",
       "      <td>2022-05-25 09:23:54</td>\n",
       "    </tr>\n",
       "    <tr>\n",
       "      <th>1</th>\n",
       "      <td>job_202205251720_1653470429.0993779</td>\n",
       "      <td>prod04_userinventory_SQLs</td>\n",
       "      <td>done</td>\n",
       "      <td>prod04_prod</td>\n",
       "      <td>2022-05-25 09:20:29</td>\n",
       "      <td>2022-05-25 09:26:03</td>\n",
       "    </tr>\n",
       "    <tr>\n",
       "      <th>2</th>\n",
       "      <td>job_202205251721_1653470472.761873</td>\n",
       "      <td>prod04_userdynamic_SQLs</td>\n",
       "      <td>done</td>\n",
       "      <td>prod04_prod</td>\n",
       "      <td>2022-05-25 09:21:12</td>\n",
       "      <td>2022-05-25 09:25:35</td>\n",
       "    </tr>\n",
       "    <tr>\n",
       "      <th>3</th>\n",
       "      <td>job_202205251721_1653470472.9306562</td>\n",
       "      <td>prod04_caconfig_SQLs</td>\n",
       "      <td>done</td>\n",
       "      <td>prod04_prod</td>\n",
       "      <td>2022-05-25 09:21:12</td>\n",
       "      <td>2022-05-25 09:21:15</td>\n",
       "    </tr>\n",
       "    <tr>\n",
       "      <th>4</th>\n",
       "      <td>job_202205251721_1653470480.188846</td>\n",
       "      <td>prod04_caguild_SQLs</td>\n",
       "      <td>done</td>\n",
       "      <td>prod04_prod</td>\n",
       "      <td>2022-05-25 09:21:20</td>\n",
       "      <td>2022-05-25 09:23:11</td>\n",
       "    </tr>\n",
       "    <tr>\n",
       "      <th>...</th>\n",
       "      <td>...</td>\n",
       "      <td>...</td>\n",
       "      <td>...</td>\n",
       "      <td>...</td>\n",
       "      <td>...</td>\n",
       "      <td>...</td>\n",
       "    </tr>\n",
       "    <tr>\n",
       "      <th>3138</th>\n",
       "      <td>job_202206051320_1654406439.9292636</td>\n",
       "      <td>prod09_linsession_charged_SQLs</td>\n",
       "      <td>done</td>\n",
       "      <td>prod09_prod</td>\n",
       "      <td>2022-06-05 05:20:39</td>\n",
       "      <td>2022-06-05 05:22:44</td>\n",
       "    </tr>\n",
       "    <tr>\n",
       "      <th>3139</th>\n",
       "      <td>job_202206051320_1654406443.6190057</td>\n",
       "      <td>prod09_linsession_charged_SQLs</td>\n",
       "      <td>done</td>\n",
       "      <td>prod09_prod</td>\n",
       "      <td>2022-06-05 05:20:43</td>\n",
       "      <td>2022-06-05 05:21:53</td>\n",
       "    </tr>\n",
       "    <tr>\n",
       "      <th>3140</th>\n",
       "      <td>job_202206051320_1654406450.9479704</td>\n",
       "      <td>prod09_linsession_charged_SQLs</td>\n",
       "      <td>done</td>\n",
       "      <td>prod09_prod</td>\n",
       "      <td>2022-06-05 05:20:50</td>\n",
       "      <td>2022-06-05 05:25:34</td>\n",
       "    </tr>\n",
       "    <tr>\n",
       "      <th>3141</th>\n",
       "      <td>job_202206051335_1654407328.517273</td>\n",
       "      <td>prod02_campaign1_SQLs</td>\n",
       "      <td>error</td>\n",
       "      <td>prod02_prod</td>\n",
       "      <td>2022-06-05 05:35:28</td>\n",
       "      <td>2022-06-05 06:01:54</td>\n",
       "    </tr>\n",
       "    <tr>\n",
       "      <th>3142</th>\n",
       "      <td>job_202206051418_1654409900.5458035</td>\n",
       "      <td>prod02_campaign2_SQLs</td>\n",
       "      <td>error</td>\n",
       "      <td>prod02_prod</td>\n",
       "      <td>2022-06-05 06:18:20</td>\n",
       "      <td>2022-06-05 06:36:56</td>\n",
       "    </tr>\n",
       "  </tbody>\n",
       "</table>\n",
       "<p>3143 rows × 6 columns</p>\n",
       "</div>"
      ],
      "text/plain": [
       "                                   job_id                        job_name  \\\n",
       "0     job_202205251719_1653470393.2947276            prod04_userinfo_SQLs   \n",
       "1     job_202205251720_1653470429.0993779       prod04_userinventory_SQLs   \n",
       "2      job_202205251721_1653470472.761873         prod04_userdynamic_SQLs   \n",
       "3     job_202205251721_1653470472.9306562            prod04_caconfig_SQLs   \n",
       "4      job_202205251721_1653470480.188846             prod04_caguild_SQLs   \n",
       "...                                   ...                             ...   \n",
       "3138  job_202206051320_1654406439.9292636  prod09_linsession_charged_SQLs   \n",
       "3139  job_202206051320_1654406443.6190057  prod09_linsession_charged_SQLs   \n",
       "3140  job_202206051320_1654406450.9479704  prod09_linsession_charged_SQLs   \n",
       "3141   job_202206051335_1654407328.517273           prod02_campaign1_SQLs   \n",
       "3142  job_202206051418_1654409900.5458035           prod02_campaign2_SQLs   \n",
       "\n",
       "     job_state product_name             start_dt          modified_dt  \n",
       "0         done  prod04_prod  2022-05-25 09:19:53  2022-05-25 09:23:54  \n",
       "1         done  prod04_prod  2022-05-25 09:20:29  2022-05-25 09:26:03  \n",
       "2         done  prod04_prod  2022-05-25 09:21:12  2022-05-25 09:25:35  \n",
       "3         done  prod04_prod  2022-05-25 09:21:12  2022-05-25 09:21:15  \n",
       "4         done  prod04_prod  2022-05-25 09:21:20  2022-05-25 09:23:11  \n",
       "...        ...          ...                  ...                  ...  \n",
       "3138      done  prod09_prod  2022-06-05 05:20:39  2022-06-05 05:22:44  \n",
       "3139      done  prod09_prod  2022-06-05 05:20:43  2022-06-05 05:21:53  \n",
       "3140      done  prod09_prod  2022-06-05 05:20:50  2022-06-05 05:25:34  \n",
       "3141     error  prod02_prod  2022-06-05 05:35:28  2022-06-05 06:01:54  \n",
       "3142     error  prod02_prod  2022-06-05 06:18:20  2022-06-05 06:36:56  \n",
       "\n",
       "[3143 rows x 6 columns]"
      ]
     },
     "execution_count": 21,
     "metadata": {},
     "output_type": "execute_result"
    }
   ],
   "source": [
    "'''\n",
    "Get timestamp\n",
    "'''\n",
    "\n",
    "filename = \"../resource/job_state.csv\"\n",
    "\n",
    "df_job_state = pd.read_csv(filename)\n",
    "df_job_state"
   ]
  },
  {
   "cell_type": "code",
   "execution_count": 22,
   "id": "39be291d",
   "metadata": {},
   "outputs": [
    {
     "data": {
      "text/plain": [
       "dtype('O')"
      ]
     },
     "execution_count": 22,
     "metadata": {},
     "output_type": "execute_result"
    }
   ],
   "source": [
    "df_job_state.start_dt.dtype"
   ]
  },
  {
   "cell_type": "code",
   "execution_count": 23,
   "id": "0aadfd35",
   "metadata": {},
   "outputs": [
    {
     "data": {
      "text/plain": [
       "dtype('O')"
      ]
     },
     "execution_count": 23,
     "metadata": {},
     "output_type": "execute_result"
    }
   ],
   "source": [
    "df_job_state.modified_dt.dtype"
   ]
  },
  {
   "cell_type": "code",
   "execution_count": 24,
   "id": "b796579d",
   "metadata": {},
   "outputs": [
    {
     "data": {
      "text/plain": [
       "0      2022-05-25 09:19:53\n",
       "1      2022-05-25 09:20:29\n",
       "2      2022-05-25 09:21:12\n",
       "3      2022-05-25 09:21:12\n",
       "4      2022-05-25 09:21:20\n",
       "               ...        \n",
       "3138   2022-06-05 05:20:39\n",
       "3139   2022-06-05 05:20:43\n",
       "3140   2022-06-05 05:20:50\n",
       "3141   2022-06-05 05:35:28\n",
       "3142   2022-06-05 06:18:20\n",
       "Name: start_dt, Length: 3143, dtype: datetime64[ns]"
      ]
     },
     "execution_count": 24,
     "metadata": {},
     "output_type": "execute_result"
    }
   ],
   "source": [
    "pd.to_datetime(df_job_state.start_dt)"
   ]
  },
  {
   "cell_type": "code",
   "execution_count": 25,
   "id": "a07cadac",
   "metadata": {},
   "outputs": [
    {
     "data": {
      "text/plain": [
       "1653470393.0"
      ]
     },
     "execution_count": 25,
     "metadata": {},
     "output_type": "execute_result"
    }
   ],
   "source": [
    "pd.to_datetime(df_job_state.start_dt)[0].timestamp()"
   ]
  },
  {
   "cell_type": "code",
   "execution_count": 26,
   "id": "3f5a8898",
   "metadata": {},
   "outputs": [
    {
     "data": {
      "text/plain": [
       "0       1.653470e+09\n",
       "1       1.653470e+09\n",
       "2       1.653470e+09\n",
       "3       1.653470e+09\n",
       "4       1.653470e+09\n",
       "            ...     \n",
       "3138    1.654406e+09\n",
       "3139    1.654406e+09\n",
       "3140    1.654406e+09\n",
       "3141    1.654407e+09\n",
       "3142    1.654410e+09\n",
       "Name: start_dt, Length: 3143, dtype: float64"
      ]
     },
     "execution_count": 26,
     "metadata": {},
     "output_type": "execute_result"
    }
   ],
   "source": [
    "start_dt_series = pd.to_datetime(df_job_state.start_dt).apply(lambda x: x.timestamp())\n",
    "start_dt_series"
   ]
  },
  {
   "cell_type": "code",
   "execution_count": 27,
   "id": "36121650",
   "metadata": {},
   "outputs": [
    {
     "data": {
      "text/plain": [
       "0       1.653471e+09\n",
       "1       1.653471e+09\n",
       "2       1.653471e+09\n",
       "3       1.653470e+09\n",
       "4       1.653471e+09\n",
       "            ...     \n",
       "3138    1.654407e+09\n",
       "3139    1.654407e+09\n",
       "3140    1.654407e+09\n",
       "3141    1.654409e+09\n",
       "3142    1.654411e+09\n",
       "Name: modified_dt, Length: 3143, dtype: float64"
      ]
     },
     "execution_count": 27,
     "metadata": {},
     "output_type": "execute_result"
    }
   ],
   "source": [
    "modified_dt_series = pd.to_datetime(df_job_state.modified_dt).apply(lambda x: x.timestamp())\n",
    "modified_dt_series"
   ]
  },
  {
   "cell_type": "code",
   "execution_count": 28,
   "id": "4d5c3a9e",
   "metadata": {},
   "outputs": [
    {
     "data": {
      "text/html": [
       "<div>\n",
       "<style scoped>\n",
       "    .dataframe tbody tr th:only-of-type {\n",
       "        vertical-align: middle;\n",
       "    }\n",
       "\n",
       "    .dataframe tbody tr th {\n",
       "        vertical-align: top;\n",
       "    }\n",
       "\n",
       "    .dataframe thead th {\n",
       "        text-align: right;\n",
       "    }\n",
       "</style>\n",
       "<table border=\"1\" class=\"dataframe\">\n",
       "  <thead>\n",
       "    <tr style=\"text-align: right;\">\n",
       "      <th></th>\n",
       "      <th>job_id</th>\n",
       "      <th>job_name</th>\n",
       "      <th>job_state</th>\n",
       "      <th>product_name</th>\n",
       "      <th>start_dt</th>\n",
       "      <th>modified_dt</th>\n",
       "      <th>time_took_sec</th>\n",
       "    </tr>\n",
       "  </thead>\n",
       "  <tbody>\n",
       "    <tr>\n",
       "      <th>0</th>\n",
       "      <td>job_202205251719_1653470393.2947276</td>\n",
       "      <td>prod04_userinfo_SQLs</td>\n",
       "      <td>done</td>\n",
       "      <td>prod04_prod</td>\n",
       "      <td>2022-05-25 09:19:53</td>\n",
       "      <td>2022-05-25 09:23:54</td>\n",
       "      <td>241.0</td>\n",
       "    </tr>\n",
       "    <tr>\n",
       "      <th>1</th>\n",
       "      <td>job_202205251720_1653470429.0993779</td>\n",
       "      <td>prod04_userinventory_SQLs</td>\n",
       "      <td>done</td>\n",
       "      <td>prod04_prod</td>\n",
       "      <td>2022-05-25 09:20:29</td>\n",
       "      <td>2022-05-25 09:26:03</td>\n",
       "      <td>334.0</td>\n",
       "    </tr>\n",
       "    <tr>\n",
       "      <th>2</th>\n",
       "      <td>job_202205251721_1653470472.761873</td>\n",
       "      <td>prod04_userdynamic_SQLs</td>\n",
       "      <td>done</td>\n",
       "      <td>prod04_prod</td>\n",
       "      <td>2022-05-25 09:21:12</td>\n",
       "      <td>2022-05-25 09:25:35</td>\n",
       "      <td>263.0</td>\n",
       "    </tr>\n",
       "    <tr>\n",
       "      <th>3</th>\n",
       "      <td>job_202205251721_1653470472.9306562</td>\n",
       "      <td>prod04_caconfig_SQLs</td>\n",
       "      <td>done</td>\n",
       "      <td>prod04_prod</td>\n",
       "      <td>2022-05-25 09:21:12</td>\n",
       "      <td>2022-05-25 09:21:15</td>\n",
       "      <td>3.0</td>\n",
       "    </tr>\n",
       "    <tr>\n",
       "      <th>4</th>\n",
       "      <td>job_202205251721_1653470480.188846</td>\n",
       "      <td>prod04_caguild_SQLs</td>\n",
       "      <td>done</td>\n",
       "      <td>prod04_prod</td>\n",
       "      <td>2022-05-25 09:21:20</td>\n",
       "      <td>2022-05-25 09:23:11</td>\n",
       "      <td>111.0</td>\n",
       "    </tr>\n",
       "    <tr>\n",
       "      <th>...</th>\n",
       "      <td>...</td>\n",
       "      <td>...</td>\n",
       "      <td>...</td>\n",
       "      <td>...</td>\n",
       "      <td>...</td>\n",
       "      <td>...</td>\n",
       "      <td>...</td>\n",
       "    </tr>\n",
       "    <tr>\n",
       "      <th>3138</th>\n",
       "      <td>job_202206051320_1654406439.9292636</td>\n",
       "      <td>prod09_linsession_charged_SQLs</td>\n",
       "      <td>done</td>\n",
       "      <td>prod09_prod</td>\n",
       "      <td>2022-06-05 05:20:39</td>\n",
       "      <td>2022-06-05 05:22:44</td>\n",
       "      <td>125.0</td>\n",
       "    </tr>\n",
       "    <tr>\n",
       "      <th>3139</th>\n",
       "      <td>job_202206051320_1654406443.6190057</td>\n",
       "      <td>prod09_linsession_charged_SQLs</td>\n",
       "      <td>done</td>\n",
       "      <td>prod09_prod</td>\n",
       "      <td>2022-06-05 05:20:43</td>\n",
       "      <td>2022-06-05 05:21:53</td>\n",
       "      <td>70.0</td>\n",
       "    </tr>\n",
       "    <tr>\n",
       "      <th>3140</th>\n",
       "      <td>job_202206051320_1654406450.9479704</td>\n",
       "      <td>prod09_linsession_charged_SQLs</td>\n",
       "      <td>done</td>\n",
       "      <td>prod09_prod</td>\n",
       "      <td>2022-06-05 05:20:50</td>\n",
       "      <td>2022-06-05 05:25:34</td>\n",
       "      <td>284.0</td>\n",
       "    </tr>\n",
       "    <tr>\n",
       "      <th>3141</th>\n",
       "      <td>job_202206051335_1654407328.517273</td>\n",
       "      <td>prod02_campaign1_SQLs</td>\n",
       "      <td>error</td>\n",
       "      <td>prod02_prod</td>\n",
       "      <td>2022-06-05 05:35:28</td>\n",
       "      <td>2022-06-05 06:01:54</td>\n",
       "      <td>1586.0</td>\n",
       "    </tr>\n",
       "    <tr>\n",
       "      <th>3142</th>\n",
       "      <td>job_202206051418_1654409900.5458035</td>\n",
       "      <td>prod02_campaign2_SQLs</td>\n",
       "      <td>error</td>\n",
       "      <td>prod02_prod</td>\n",
       "      <td>2022-06-05 06:18:20</td>\n",
       "      <td>2022-06-05 06:36:56</td>\n",
       "      <td>1116.0</td>\n",
       "    </tr>\n",
       "  </tbody>\n",
       "</table>\n",
       "<p>3143 rows × 7 columns</p>\n",
       "</div>"
      ],
      "text/plain": [
       "                                   job_id                        job_name  \\\n",
       "0     job_202205251719_1653470393.2947276            prod04_userinfo_SQLs   \n",
       "1     job_202205251720_1653470429.0993779       prod04_userinventory_SQLs   \n",
       "2      job_202205251721_1653470472.761873         prod04_userdynamic_SQLs   \n",
       "3     job_202205251721_1653470472.9306562            prod04_caconfig_SQLs   \n",
       "4      job_202205251721_1653470480.188846             prod04_caguild_SQLs   \n",
       "...                                   ...                             ...   \n",
       "3138  job_202206051320_1654406439.9292636  prod09_linsession_charged_SQLs   \n",
       "3139  job_202206051320_1654406443.6190057  prod09_linsession_charged_SQLs   \n",
       "3140  job_202206051320_1654406450.9479704  prod09_linsession_charged_SQLs   \n",
       "3141   job_202206051335_1654407328.517273           prod02_campaign1_SQLs   \n",
       "3142  job_202206051418_1654409900.5458035           prod02_campaign2_SQLs   \n",
       "\n",
       "     job_state product_name             start_dt          modified_dt  \\\n",
       "0         done  prod04_prod  2022-05-25 09:19:53  2022-05-25 09:23:54   \n",
       "1         done  prod04_prod  2022-05-25 09:20:29  2022-05-25 09:26:03   \n",
       "2         done  prod04_prod  2022-05-25 09:21:12  2022-05-25 09:25:35   \n",
       "3         done  prod04_prod  2022-05-25 09:21:12  2022-05-25 09:21:15   \n",
       "4         done  prod04_prod  2022-05-25 09:21:20  2022-05-25 09:23:11   \n",
       "...        ...          ...                  ...                  ...   \n",
       "3138      done  prod09_prod  2022-06-05 05:20:39  2022-06-05 05:22:44   \n",
       "3139      done  prod09_prod  2022-06-05 05:20:43  2022-06-05 05:21:53   \n",
       "3140      done  prod09_prod  2022-06-05 05:20:50  2022-06-05 05:25:34   \n",
       "3141     error  prod02_prod  2022-06-05 05:35:28  2022-06-05 06:01:54   \n",
       "3142     error  prod02_prod  2022-06-05 06:18:20  2022-06-05 06:36:56   \n",
       "\n",
       "      time_took_sec  \n",
       "0             241.0  \n",
       "1             334.0  \n",
       "2             263.0  \n",
       "3               3.0  \n",
       "4             111.0  \n",
       "...             ...  \n",
       "3138          125.0  \n",
       "3139           70.0  \n",
       "3140          284.0  \n",
       "3141         1586.0  \n",
       "3142         1116.0  \n",
       "\n",
       "[3143 rows x 7 columns]"
      ]
     },
     "execution_count": 28,
     "metadata": {},
     "output_type": "execute_result"
    }
   ],
   "source": [
    "df_job_state[\"time_took_sec\"] = modified_dt_series - start_dt_series\n",
    "df_job_state"
   ]
  },
  {
   "cell_type": "code",
   "execution_count": 29,
   "id": "2d5c58c4",
   "metadata": {},
   "outputs": [],
   "source": [
    "df_job_state.to_csv(\"job_state_with_second_took.csv\", index=0, encoding=\"utf-8-sig\")"
   ]
  },
  {
   "cell_type": "code",
   "execution_count": null,
   "id": "7e0d7629",
   "metadata": {},
   "outputs": [],
   "source": []
  }
 ],
 "metadata": {
  "kernelspec": {
   "display_name": "Python 3 (ipykernel)",
   "language": "python",
   "name": "python3"
  },
  "language_info": {
   "codemirror_mode": {
    "name": "ipython",
    "version": 3
   },
   "file_extension": ".py",
   "mimetype": "text/x-python",
   "name": "python",
   "nbconvert_exporter": "python",
   "pygments_lexer": "ipython3",
   "version": "3.8.2"
  }
 },
 "nbformat": 4,
 "nbformat_minor": 5
}
