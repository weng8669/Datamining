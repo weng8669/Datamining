{
 "cells": [
  {
   "cell_type": "code",
   "execution_count": 1,
   "id": "630600e4",
   "metadata": {},
   "outputs": [
    {
     "data": {
      "text/plain": [
       "{'__name__': '__main__',\n",
       " '__doc__': 'Automatically created module for IPython interactive environment',\n",
       " '__package__': None,\n",
       " '__loader__': None,\n",
       " '__spec__': None,\n",
       " '__builtin__': <module 'builtins' (built-in)>,\n",
       " '__builtins__': <module 'builtins' (built-in)>,\n",
       " '_ih': ['', 'globals()'],\n",
       " '_oh': {},\n",
       " '_dh': [PosixPath('/Users/uuboy.scy/PycharmProjects/datamining-course/module_10_SQL')],\n",
       " 'In': ['', 'globals()'],\n",
       " 'Out': {},\n",
       " 'get_ipython': <bound method InteractiveShell.get_ipython of <ipykernel.zmqshell.ZMQInteractiveShell object at 0x7ff3683eb070>>,\n",
       " 'exit': <IPython.core.autocall.ZMQExitAutocall at 0x7ff348869bb0>,\n",
       " 'quit': <IPython.core.autocall.ZMQExitAutocall at 0x7ff348869bb0>,\n",
       " '_': '',\n",
       " '__': '',\n",
       " '___': '',\n",
       " '_i': '',\n",
       " '_ii': '',\n",
       " '_iii': '',\n",
       " '_i1': 'globals()'}"
      ]
     },
     "execution_count": 1,
     "metadata": {},
     "output_type": "execute_result"
    }
   ],
   "source": [
    "globals()"
   ]
  },
  {
   "cell_type": "code",
   "execution_count": 2,
   "id": "c30e6f14",
   "metadata": {},
   "outputs": [],
   "source": [
    "var_a = 123"
   ]
  },
  {
   "cell_type": "code",
   "execution_count": 3,
   "id": "419656e6",
   "metadata": {
    "scrolled": true
   },
   "outputs": [
    {
     "data": {
      "text/plain": [
       "{'__name__': '__main__',\n",
       " '__doc__': 'Automatically created module for IPython interactive environment',\n",
       " '__package__': None,\n",
       " '__loader__': None,\n",
       " '__spec__': None,\n",
       " '__builtin__': <module 'builtins' (built-in)>,\n",
       " '__builtins__': <module 'builtins' (built-in)>,\n",
       " '_ih': ['', 'globals()', 'var_a = 123', 'globals()'],\n",
       " '_oh': {1: {...}},\n",
       " '_dh': [PosixPath('/Users/uuboy.scy/PycharmProjects/datamining-course/module_10_SQL')],\n",
       " 'In': ['', 'globals()', 'var_a = 123', 'globals()'],\n",
       " 'Out': {1: {...}},\n",
       " 'get_ipython': <bound method InteractiveShell.get_ipython of <ipykernel.zmqshell.ZMQInteractiveShell object at 0x7ff3683eb070>>,\n",
       " 'exit': <IPython.core.autocall.ZMQExitAutocall at 0x7ff348869bb0>,\n",
       " 'quit': <IPython.core.autocall.ZMQExitAutocall at 0x7ff348869bb0>,\n",
       " '_': {...},\n",
       " '__': '',\n",
       " '___': '',\n",
       " '_i': 'var_a = 123',\n",
       " '_ii': 'globals()',\n",
       " '_iii': '',\n",
       " '_i1': 'globals()',\n",
       " '_1': {...},\n",
       " '_i2': 'var_a = 123',\n",
       " 'var_a': 123,\n",
       " '_i3': 'globals()'}"
      ]
     },
     "execution_count": 3,
     "metadata": {},
     "output_type": "execute_result"
    }
   ],
   "source": [
    "globals()"
   ]
  },
  {
   "cell_type": "code",
   "execution_count": 4,
   "id": "85e31af6",
   "metadata": {},
   "outputs": [],
   "source": [
    "globals()[\"var_b\"] = 456"
   ]
  },
  {
   "cell_type": "code",
   "execution_count": 5,
   "id": "d1d5978d",
   "metadata": {},
   "outputs": [
    {
     "data": {
      "text/plain": [
       "456"
      ]
     },
     "execution_count": 5,
     "metadata": {},
     "output_type": "execute_result"
    }
   ],
   "source": [
    "var_b"
   ]
  },
  {
   "cell_type": "code",
   "execution_count": 6,
   "id": "bdfa8fab",
   "metadata": {},
   "outputs": [
    {
     "data": {
      "text/plain": [
       "{'__name__': '__main__',\n",
       " '__doc__': 'Automatically created module for IPython interactive environment',\n",
       " '__package__': None,\n",
       " '__loader__': None,\n",
       " '__spec__': None,\n",
       " '__builtin__': <module 'builtins' (built-in)>,\n",
       " '__builtins__': <module 'builtins' (built-in)>,\n",
       " '_ih': ['',\n",
       "  'globals()',\n",
       "  'var_a = 123',\n",
       "  'globals()',\n",
       "  'globals()[\"var_b\"] = 456',\n",
       "  'var_b',\n",
       "  'locals()'],\n",
       " '_oh': {1: {...}, 3: {...}, 5: 456},\n",
       " '_dh': [PosixPath('/Users/uuboy.scy/PycharmProjects/datamining-course/module_10_SQL')],\n",
       " 'In': ['',\n",
       "  'globals()',\n",
       "  'var_a = 123',\n",
       "  'globals()',\n",
       "  'globals()[\"var_b\"] = 456',\n",
       "  'var_b',\n",
       "  'locals()'],\n",
       " 'Out': {1: {...}, 3: {...}, 5: 456},\n",
       " 'get_ipython': <bound method InteractiveShell.get_ipython of <ipykernel.zmqshell.ZMQInteractiveShell object at 0x7ff3683eb070>>,\n",
       " 'exit': <IPython.core.autocall.ZMQExitAutocall at 0x7ff348869bb0>,\n",
       " 'quit': <IPython.core.autocall.ZMQExitAutocall at 0x7ff348869bb0>,\n",
       " '_': 456,\n",
       " '__': {...},\n",
       " '___': {...},\n",
       " '_i': 'var_b',\n",
       " '_ii': 'globals()[\"var_b\"] = 456',\n",
       " '_iii': 'globals()',\n",
       " '_i1': 'globals()',\n",
       " '_1': {...},\n",
       " '_i2': 'var_a = 123',\n",
       " 'var_a': 123,\n",
       " '_i3': 'globals()',\n",
       " '_3': {...},\n",
       " '_i4': 'globals()[\"var_b\"] = 456',\n",
       " 'var_b': 456,\n",
       " '_i5': 'var_b',\n",
       " '_5': 456,\n",
       " '_i6': 'locals()'}"
      ]
     },
     "execution_count": 6,
     "metadata": {},
     "output_type": "execute_result"
    }
   ],
   "source": [
    "locals()"
   ]
  },
  {
   "cell_type": "code",
   "execution_count": 7,
   "id": "c751835a",
   "metadata": {},
   "outputs": [
    {
     "name": "stdout",
     "output_type": "stream",
     "text": [
      "{'local_var_a': 321}\n"
     ]
    }
   ],
   "source": [
    "def show_locals():\n",
    "    local_var_a = 321\n",
    "    print(locals())\n",
    "\n",
    "show_locals()"
   ]
  },
  {
   "cell_type": "code",
   "execution_count": 8,
   "id": "c6a11989",
   "metadata": {},
   "outputs": [
    {
     "name": "stdout",
     "output_type": "stream",
     "text": [
      "aaa bbb ccc\n"
     ]
    }
   ],
   "source": [
    "def create_var():\n",
    "    globals()[\"global_var_a\"] = \"aaa\"\n",
    "    globals()[\"global_var_b\"] = \"bbb\"\n",
    "    globals()[\"global_var_c\"] = \"ccc\"\n",
    "    return (global_var_a, global_var_b, global_var_c)\n",
    "\n",
    "aa, bb, cc = create_var()\n",
    "\n",
    "print(aa, bb, cc)"
   ]
  },
  {
   "cell_type": "code",
   "execution_count": 9,
   "id": "1736984a",
   "metadata": {},
   "outputs": [
    {
     "name": "stdout",
     "output_type": "stream",
     "text": [
      "aaa bbb ccc\n"
     ]
    }
   ],
   "source": [
    "print(global_var_a, global_var_b, global_var_c)"
   ]
  },
  {
   "cell_type": "code",
   "execution_count": 10,
   "id": "ee308a57",
   "metadata": {},
   "outputs": [
    {
     "data": {
      "text/plain": [
       "{'__name__': '__main__',\n",
       " '__doc__': 'Automatically created module for IPython interactive environment',\n",
       " '__package__': None,\n",
       " '__loader__': None,\n",
       " '__spec__': None,\n",
       " '__builtin__': <module 'builtins' (built-in)>,\n",
       " '__builtins__': <module 'builtins' (built-in)>,\n",
       " '_ih': ['',\n",
       "  'globals()',\n",
       "  'var_a = 123',\n",
       "  'globals()',\n",
       "  'globals()[\"var_b\"] = 456',\n",
       "  'var_b',\n",
       "  'locals()',\n",
       "  'def show_locals():\\n    local_var_a = 321\\n    print(locals())\\n\\nshow_locals()',\n",
       "  'def create_var():\\n    globals()[\"global_var_a\"] = \"aaa\"\\n    globals()[\"global_var_b\"] = \"bbb\"\\n    globals()[\"global_var_c\"] = \"ccc\"\\n    return (global_var_a, global_var_b, global_var_c)\\n\\naa, bb, cc = create_var()\\n\\nprint(aa, bb, cc)',\n",
       "  'print(global_var_a, global_var_b, global_var_c)',\n",
       "  'globals()'],\n",
       " '_oh': {1: {...}, 3: {...}, 5: 456, 6: {...}},\n",
       " '_dh': [PosixPath('/Users/uuboy.scy/PycharmProjects/datamining-course/module_10_SQL')],\n",
       " 'In': ['',\n",
       "  'globals()',\n",
       "  'var_a = 123',\n",
       "  'globals()',\n",
       "  'globals()[\"var_b\"] = 456',\n",
       "  'var_b',\n",
       "  'locals()',\n",
       "  'def show_locals():\\n    local_var_a = 321\\n    print(locals())\\n\\nshow_locals()',\n",
       "  'def create_var():\\n    globals()[\"global_var_a\"] = \"aaa\"\\n    globals()[\"global_var_b\"] = \"bbb\"\\n    globals()[\"global_var_c\"] = \"ccc\"\\n    return (global_var_a, global_var_b, global_var_c)\\n\\naa, bb, cc = create_var()\\n\\nprint(aa, bb, cc)',\n",
       "  'print(global_var_a, global_var_b, global_var_c)',\n",
       "  'globals()'],\n",
       " 'Out': {1: {...}, 3: {...}, 5: 456, 6: {...}},\n",
       " 'get_ipython': <bound method InteractiveShell.get_ipython of <ipykernel.zmqshell.ZMQInteractiveShell object at 0x7ff3683eb070>>,\n",
       " 'exit': <IPython.core.autocall.ZMQExitAutocall at 0x7ff348869bb0>,\n",
       " 'quit': <IPython.core.autocall.ZMQExitAutocall at 0x7ff348869bb0>,\n",
       " '_': {...},\n",
       " '__': 456,\n",
       " '___': {...},\n",
       " '_i': 'print(global_var_a, global_var_b, global_var_c)',\n",
       " '_ii': 'def create_var():\\n    globals()[\"global_var_a\"] = \"aaa\"\\n    globals()[\"global_var_b\"] = \"bbb\"\\n    globals()[\"global_var_c\"] = \"ccc\"\\n    return (global_var_a, global_var_b, global_var_c)\\n\\naa, bb, cc = create_var()\\n\\nprint(aa, bb, cc)',\n",
       " '_iii': 'def show_locals():\\n    local_var_a = 321\\n    print(locals())\\n\\nshow_locals()',\n",
       " '_i1': 'globals()',\n",
       " '_1': {...},\n",
       " '_i2': 'var_a = 123',\n",
       " 'var_a': 123,\n",
       " '_i3': 'globals()',\n",
       " '_3': {...},\n",
       " '_i4': 'globals()[\"var_b\"] = 456',\n",
       " 'var_b': 456,\n",
       " '_i5': 'var_b',\n",
       " '_5': 456,\n",
       " '_i6': 'locals()',\n",
       " '_6': {...},\n",
       " '_i7': 'def show_locals():\\n    local_var_a = 321\\n    print(locals())\\n\\nshow_locals()',\n",
       " 'show_locals': <function __main__.show_locals()>,\n",
       " '_i8': 'def create_var():\\n    globals()[\"global_var_a\"] = \"aaa\"\\n    globals()[\"global_var_b\"] = \"bbb\"\\n    globals()[\"global_var_c\"] = \"ccc\"\\n    return (global_var_a, global_var_b, global_var_c)\\n\\naa, bb, cc = create_var()\\n\\nprint(aa, bb, cc)',\n",
       " 'create_var': <function __main__.create_var()>,\n",
       " 'global_var_a': 'aaa',\n",
       " 'global_var_b': 'bbb',\n",
       " 'global_var_c': 'ccc',\n",
       " 'aa': 'aaa',\n",
       " 'bb': 'bbb',\n",
       " 'cc': 'ccc',\n",
       " '_i9': 'print(global_var_a, global_var_b, global_var_c)',\n",
       " '_i10': 'globals()'}"
      ]
     },
     "execution_count": 10,
     "metadata": {},
     "output_type": "execute_result"
    }
   ],
   "source": [
    "globals()"
   ]
  },
  {
   "cell_type": "code",
   "execution_count": null,
   "id": "85da306a",
   "metadata": {},
   "outputs": [],
   "source": []
  }
 ],
 "metadata": {
  "kernelspec": {
   "display_name": "Python 3 (ipykernel)",
   "language": "python",
   "name": "python3"
  },
  "language_info": {
   "codemirror_mode": {
    "name": "ipython",
    "version": 3
   },
   "file_extension": ".py",
   "mimetype": "text/x-python",
   "name": "python",
   "nbconvert_exporter": "python",
   "pygments_lexer": "ipython3",
   "version": "3.8.2"
  }
 },
 "nbformat": 4,
 "nbformat_minor": 5
}
