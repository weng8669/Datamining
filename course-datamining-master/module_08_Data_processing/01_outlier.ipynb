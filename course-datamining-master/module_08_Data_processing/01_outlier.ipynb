{
 "cells": [
  {
   "cell_type": "code",
   "execution_count": 1,
   "id": "a1baff98",
   "metadata": {},
   "outputs": [],
   "source": [
    "import pandas as pd\n",
    "import numpy as np\n",
    "import matplotlib.pyplot as plt"
   ]
  },
  {
   "cell_type": "code",
   "execution_count": 2,
   "id": "f12be697",
   "metadata": {
    "scrolled": true
   },
   "outputs": [],
   "source": [
    "df = pd.DataFrame(\n",
    "    data={\n",
    "        \"a\": [1,2,3,6,6,7,4,8,9,8,-3,-2,-4,-5,-5,-3,-3,-18,4,3,4,6,7,1,2,3,4,7,4,6,20,2,4,5,7,4,3,4,5,6,7,8,5,6,5,4,12,13,11,1,10,5,6,3]\n",
    "    }\n",
    ")"
   ]
  },
  {
   "cell_type": "code",
   "execution_count": 3,
   "id": "6087fff4",
   "metadata": {},
   "outputs": [
    {
     "data": {
      "image/png": "[encoded data removed]",
      "text/plain": [
       "<Figure size 144x216 with 1 Axes>"
      ]
     },
     "metadata": {
      "needs_background": "light"
     },
     "output_type": "display_data"
    }
   ],
   "source": [
    "plt.figure(figsize=(2, 3))\n",
    "plt.boxplot(df['a'], showmeans=True)\n",
    "plt.title('title_a')\n",
    "plt.show()"
   ]
  },
  {
   "cell_type": "code",
   "execution_count": 4,
   "id": "db447af0",
   "metadata": {},
   "outputs": [
    {
     "data": {
      "image/png": "[encoded data removed]",
      "text/plain": [
       "<Figure size 144x216 with 1 Axes>"
      ]
     },
     "metadata": {
      "needs_background": "light"
     },
     "output_type": "display_data"
    }
   ],
   "source": [
    "q1 = np.percentile(df['a'], 25)\n",
    "q2 = np.percentile(df['a'], 50)\n",
    "q3 = np.percentile(df['a'], 75)\n",
    "iqr = q3 - q1\n",
    "\n",
    "plt.figure(figsize=(2, 3))\n",
    "plt.boxplot(df['a'], showmeans=True)\n",
    "plt.title('title_a')\n",
    "plt.text(1.6, q1, \"Q1 -> {}\".format(q1))\n",
    "plt.text(1.6, q2, \"Q2 -> {}\".format(q2))\n",
    "plt.text(1.6, q3, \"Q3 -> {}\".format(q3))\n",
    "plt.text(1.6, q3 + 1.5 * iqr, \"Q3 + 1.5*IQR\")\n",
    "plt.text(1.6, q1 - 1.5 * iqr, \"Q1 - 1.5*IQR\")\n",
    "plt.show()"
   ]
  },
  {
   "cell_type": "code",
   "execution_count": 5,
   "id": "d88c9a9e",
   "metadata": {},
   "outputs": [
    {
     "name": "stdout",
     "output_type": "stream",
     "text": [
      "2.25\n",
      "4.0\n",
      "6.75\n",
      "4.5\n",
      "13.5\n"
     ]
    },
    {
     "data": {
      "image/png": "[encoded data removed]",
      "text/plain": [
       "<Figure size 144x216 with 1 Axes>"
      ]
     },
     "metadata": {
      "needs_background": "light"
     },
     "output_type": "display_data"
    }
   ],
   "source": [
    "q1 = np.percentile(df['a'], 25)\n",
    "q2 = np.percentile(df['a'], 50)\n",
    "q3 = np.percentile(df['a'], 75)\n",
    "iqr = q3 - q1\n",
    "print(q1)\n",
    "print(q2)\n",
    "print(q3)\n",
    "print(iqr)\n",
    "print(q3 + 1.5 * iqr)\n",
    "\n",
    "plt.figure(figsize=(2, 3))\n",
    "plt.boxplot(df['a'], showmeans=True)\n",
    "plt.title('title_a')\n",
    "plt.text(1.6, q1, \"Q1 -> {}\".format(q1))\n",
    "plt.text(1.6, q2, \"Q2 -> {}\".format(q2))\n",
    "plt.text(1.6, q3, \"Q3 -> {}\".format(q3))\n",
    "plt.text(1.6, q3 + 1.5 * iqr, \"Q3 + 1.5*IQR\")\n",
    "plt.text(1.6, q1 - 1.5 * iqr, \"Q1 - 1.5*IQR\")\n",
    "plt.show()"
   ]
  },
  {
   "cell_type": "code",
   "execution_count": 6,
   "id": "2686fec4",
   "metadata": {},
   "outputs": [
    {
     "data": {
      "image/png": "[encoded data removed]",
      "text/plain": [
       "<Figure size 432x288 with 1 Axes>"
      ]
     },
     "metadata": {
      "needs_background": "light"
     },
     "output_type": "display_data"
    }
   ],
   "source": [
    "arr = plt.hist(df.a, bins=20)\n",
    "for i in range(20):\n",
    "    plt.text(arr[1][i], arr[0][i], str(int(arr[0][i])))"
   ]
  },
  {
   "cell_type": "code",
   "execution_count": null,
   "id": "3aaa34e7",
   "metadata": {},
   "outputs": [],
   "source": []
  }
 ],
 "metadata": {
  "kernelspec": {
   "display_name": "Python 3 (ipykernel)",
   "language": "python",
   "name": "python3"
  },
  "language_info": {
   "codemirror_mode": {
    "name": "ipython",
    "version": 3
   },
   "file_extension": ".py",
   "mimetype": "text/x-python",
   "name": "python",
   "nbconvert_exporter": "python",
   "pygments_lexer": "ipython3",
   "version": "3.8.2"
  }
 },
 "nbformat": 4,
 "nbformat_minor": 5
}
