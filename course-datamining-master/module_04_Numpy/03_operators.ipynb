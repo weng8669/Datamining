{
 "cells": [
  {
   "cell_type": "code",
   "execution_count": 1,
   "id": "d01cfdf1",
   "metadata": {},
   "outputs": [],
   "source": [
    "import numpy as np"
   ]
  },
  {
   "cell_type": "code",
   "execution_count": 2,
   "id": "308145ec",
   "metadata": {},
   "outputs": [
    {
     "name": "stdout",
     "output_type": "stream",
     "text": [
      "tmparray : [1 2 3 4 5 6]\n",
      "tmparray > 3 : [False False False  True  True  True]\n",
      "tmparray < 3 : [ True  True False False False False]\n",
      "tmparray != 3 : [ True  True False  True  True  True]\n",
      "tmparray == 3 : [False False  True False False False]\n"
     ]
    }
   ],
   "source": [
    "# Comparison operators  <  <=  >  >=  ==  !=\n",
    "\n",
    "tmparray = np.array([1, 2, 3, 4, 5, 6])\n",
    "\n",
    "print(\"tmparray :\", tmparray)\n",
    "print(\"tmparray > 3 :\", tmparray > 3)\n",
    "print(\"tmparray < 3 :\", tmparray < 3)\n",
    "print(\"tmparray != 3 :\", tmparray != 3)\n",
    "print(\"tmparray == 3 :\", tmparray == 3)"
   ]
  },
  {
   "cell_type": "code",
   "execution_count": 3,
   "id": "38dad93a",
   "metadata": {},
   "outputs": [
    {
     "name": "stdout",
     "output_type": "stream",
     "text": [
      "tmparray : [1 2 3 4 5 6]\n",
      "(tmparray > 2) & (tmparray < 5) :  [False False  True  True False False]\n",
      "(tmparray > 2) | (tmparray < 5) :  [ True  True  True  True  True  True]\n",
      "(tmparray > 2) ^ (tmparray < 5) :  [ True  True False False  True  True]\n",
      "~(tmparray > 2) & ~(tmparray < 5) :  [False False False False False False]\n",
      "~(tmparray <= 2) & ~(tmparray >= 5) :  [False False  True  True False False]\n"
     ]
    }
   ],
   "source": [
    "# Logic operators  &  |  ^  ~\n",
    "\n",
    "tmparray = np.array([1, 2, 3, 4, 5, 6])\n",
    "\n",
    "print(\"tmparray :\", tmparray)\n",
    "print(\"(tmparray > 2) & (tmparray < 5) : \", (tmparray > 2) & (tmparray < 5))\n",
    "print(\"(tmparray > 2) | (tmparray < 5) : \", (tmparray > 2) | (tmparray < 5))\n",
    "print(\"(tmparray > 2) ^ (tmparray < 5) : \", (tmparray > 2) ^ (tmparray < 5))\n",
    "print(\"~(tmparray > 2) & ~(tmparray < 5) : \", ~(tmparray > 2) & ~(tmparray < 5))\n",
    "print(\"~(tmparray <= 2) & ~(tmparray >= 5) : \", ~(tmparray <= 2) & ~(tmparray >= 5))"
   ]
  },
  {
   "cell_type": "code",
   "execution_count": null,
   "id": "84e636d1",
   "metadata": {},
   "outputs": [],
   "source": []
  }
 ],
 "metadata": {
  "kernelspec": {
   "display_name": "Python 3 (ipykernel)",
   "language": "python",
   "name": "python3"
  },
  "language_info": {
   "codemirror_mode": {
    "name": "ipython",
    "version": 3
   },
   "file_extension": ".py",
   "mimetype": "text/x-python",
   "name": "python",
   "nbconvert_exporter": "python",
   "pygments_lexer": "ipython3",
   "version": "3.8.2"
  }
 },
 "nbformat": 4,
 "nbformat_minor": 5
}
