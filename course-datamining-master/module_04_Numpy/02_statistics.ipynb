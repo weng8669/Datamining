{
 "cells": [
  {
   "cell_type": "code",
   "execution_count": 1,
   "id": "22ccaf28",
   "metadata": {},
   "outputs": [],
   "source": [
    "import numpy as np"
   ]
  },
  {
   "cell_type": "code",
   "execution_count": 2,
   "id": "bcc90245",
   "metadata": {},
   "outputs": [
    {
     "name": "stdout",
     "output_type": "stream",
     "text": [
      "平均 3.5\n",
      "最大值 6\n",
      "最小值 1\n",
      "中位數 3.5\n"
     ]
    }
   ],
   "source": [
    "tmparray = np.array([1, 2, 3, 4, 5, 6])\n",
    "\n",
    "print(\"平均\", tmparray.mean())\n",
    "print(\"最大值\", tmparray.max())\n",
    "print(\"最小值\", tmparray.min())\n",
    "print(\"中位數\", np.median(tmparray))"
   ]
  },
  {
   "cell_type": "code",
   "execution_count": 3,
   "id": "fcdcb41e",
   "metadata": {},
   "outputs": [
    {
     "name": "stdout",
     "output_type": "stream",
     "text": [
      "第 10 百分位數 1.5\n",
      "第 80 百分位數 5.0\n",
      "第 50 百分位數 3.5\n"
     ]
    }
   ],
   "source": [
    "# 百分位數\n",
    "\n",
    "print(\"第 10 百分位數\", np.percentile(tmparray, 10))\n",
    "print(\"第 80 百分位數\", np.percentile(tmparray, 80))\n",
    "print(\"第 50 百分位數\", np.percentile(tmparray, 50))  # 中位數"
   ]
  },
  {
   "cell_type": "code",
   "execution_count": 4,
   "id": "bb66988b",
   "metadata": {},
   "outputs": [
    {
     "name": "stdout",
     "output_type": "stream",
     "text": [
      "第 1 四分位數 2.25\n",
      "第 2 四分位數 3.5\n",
      "第 3 四分位數 4.75\n"
     ]
    }
   ],
   "source": [
    "# 四分位數\n",
    "\n",
    "print(\"第 1 四分位數\", np.percentile(tmparray, 25))\n",
    "print(\"第 2 四分位數\", np.percentile(tmparray, 50))\n",
    "print(\"第 3 四分位數\", np.percentile(tmparray, 75))"
   ]
  },
  {
   "cell_type": "code",
   "execution_count": 5,
   "id": "2edff385",
   "metadata": {},
   "outputs": [
    {
     "name": "stdout",
     "output_type": "stream",
     "text": [
      "第 1 四分位數 3\n",
      "第 2 四分位數 4\n",
      "第 3 四分位數 5\n"
     ]
    }
   ],
   "source": [
    "print(\"第 1 四分位數\", np.percentile(tmparray, 25, method=\"higher\"))\n",
    "print(\"第 2 四分位數\", np.percentile(tmparray, 50, method=\"higher\"))\n",
    "print(\"第 3 四分位數\", np.percentile(tmparray, 75, method=\"higher\"))"
   ]
  },
  {
   "cell_type": "markdown",
   "id": "a88e05bd",
   "metadata": {},
   "source": [
    "### 變異數  $\\sigma^2 = \\frac{1}{n} \\sum_{i=1}^n (x_i-\\mu)^2$\n",
    "\n",
    "### 標準差  $\\sigma = \\sqrt{\\frac{1}{n} \\sum_{i=1}^n (x_i-\\mu)^2}$"
   ]
  },
  {
   "cell_type": "code",
   "execution_count": 6,
   "id": "059dac11",
   "metadata": {},
   "outputs": [
    {
     "name": "stdout",
     "output_type": "stream",
     "text": [
      "變異數 2.9166666666666665\n",
      "標準差 1.707825127659933\n"
     ]
    }
   ],
   "source": [
    "mu = tmparray.mean()\n",
    "np.sum(tmparray - mu)\n",
    "\n",
    "# 變異數\n",
    "var = np.power(tmparray - mu, 2).mean()\n",
    "\n",
    "# 標準差\n",
    "std = np.sqrt(np.power(tmparray - mu, 2).mean())\n",
    "\n",
    "print(\"變異數\", var)\n",
    "print(\"標準差\", std)"
   ]
  },
  {
   "cell_type": "code",
   "execution_count": 7,
   "id": "cef6adfc",
   "metadata": {},
   "outputs": [
    {
     "name": "stdout",
     "output_type": "stream",
     "text": [
      "變異數 2.9166666666666665\n",
      "標準差 1.707825127659933\n"
     ]
    }
   ],
   "source": [
    "print(\"變異數\", tmparray.var())\n",
    "print(\"標準差\", tmparray.std())"
   ]
  },
  {
   "cell_type": "markdown",
   "id": "855d9fce",
   "metadata": {},
   "source": [
    "# $\\frac{1}{\\sigma\\sqrt{2\\pi}}e^{-\\frac{1}{2}(\\frac{x-\\mu}{\\sigma})^2}$"
   ]
  },
  {
   "cell_type": "code",
   "execution_count": 8,
   "id": "d66cc5c3",
   "metadata": {},
   "outputs": [
    {
     "data": {
      "image/png": "[encoded data removed]",
      "text/plain": [
       "<Figure size 432x288 with 1 Axes>"
      ]
     },
     "metadata": {
      "needs_background": "light"
     },
     "output_type": "display_data"
    }
   ],
   "source": [
    "# 常態分佈\n",
    "\n",
    "import numpy as np\n",
    "import matplotlib.pyplot as plt\n",
    "\n",
    "mean = 0; std = 1; variance = np.square(std)\n",
    "x = np.arange(-5,5,.01)\n",
    "f = np.exp(-np.square(x-mean)/2*variance)/(np.sqrt(2*np.pi*variance))\n",
    "\n",
    "plt.plot(x,f)\n",
    "plt.ylabel('gaussian distribution')\n",
    "plt.show()"
   ]
  },
  {
   "cell_type": "code",
   "execution_count": 9,
   "id": "962f80a2",
   "metadata": {},
   "outputs": [
    {
     "data": {
      "text/plain": [
       "array([-0.33441018,  0.27044165, -1.35322089, -0.37647488, -0.6663292 ,\n",
       "        0.0428873 ,  1.21797241, -1.26625955,  0.36046304, -0.5309248 ,\n",
       "       -0.80966333,  0.2971795 ,  0.43215484, -0.64401178, -0.28239929,\n",
       "        0.22043971,  0.18983296, -1.33908399, -0.89444868,  1.16773495,\n",
       "       -0.55460298, -0.59449856, -0.10441784, -0.54979462, -0.03279115,\n",
       "        0.3437015 ,  0.20027435,  1.54072497, -1.052085  ,  0.91654598,\n",
       "        1.19214623, -0.57191426, -0.75547998, -1.69456379,  0.79107342,\n",
       "       -1.26354209,  0.2900417 , -0.31060856, -2.13009378,  0.34913431,\n",
       "        1.60484652, -0.45661374,  0.90964894, -0.91718864, -0.04216634,\n",
       "       -0.82917062, -0.06267938,  0.9294561 , -0.7235652 , -0.36579505,\n",
       "        0.75599835,  0.295539  , -0.31088077, -0.61424477, -0.08550643,\n",
       "        0.40038336, -0.27130647, -1.80395478, -0.70062023,  0.34552027,\n",
       "        0.81897273,  0.74616284, -0.19570116, -0.23060879,  1.21706371,\n",
       "       -1.34039127,  0.86799169,  0.43254057,  2.30848017, -0.97347902,\n",
       "       -0.47033184,  0.03083341, -1.77839227, -0.37310655,  0.78927752,\n",
       "       -0.57486989, -0.96836416,  0.49543844, -0.24244262, -0.8286723 ,\n",
       "       -0.8108121 , -0.92213191,  2.16514957,  1.36926729, -1.05489366,\n",
       "        0.73906007,  0.81427903,  0.80607009, -0.28330301, -1.01614583,\n",
       "       -0.02809159,  0.6345014 ,  0.57568311,  1.90526843,  0.10384866,\n",
       "        1.47905696,  2.19623185, -0.16859948, -0.24631236,  1.35096302])"
      ]
     },
     "execution_count": 9,
     "metadata": {},
     "output_type": "execute_result"
    }
   ],
   "source": [
    "# 產生一個平均為 0，標準差為 1 的常態分佈陣列，此陣列有 100 個元素\n",
    "\n",
    "np.random.normal(0, 1, 100)"
   ]
  },
  {
   "cell_type": "code",
   "execution_count": 10,
   "id": "929eb101",
   "metadata": {},
   "outputs": [
    {
     "data": {
      "image/png": "[encoded data removed]",
      "text/plain": [
       "<Figure size 432x288 with 1 Axes>"
      ]
     },
     "metadata": {
      "needs_background": "light"
     },
     "output_type": "display_data"
    }
   ],
   "source": [
    "plt.hist(np.random.normal(0, 1, 1000), 30, density=True)\n",
    "plt.plot(x,f)\n",
    "plt.ylabel('gaussian distribution')\n",
    "plt.show()"
   ]
  },
  {
   "cell_type": "code",
   "execution_count": null,
   "id": "0c51274e",
   "metadata": {},
   "outputs": [],
   "source": []
  }
 ],
 "metadata": {
  "kernelspec": {
   "display_name": "Python 3 (ipykernel)",
   "language": "python",
   "name": "python3"
  },
  "language_info": {
   "codemirror_mode": {
    "name": "ipython",
    "version": 3
   },
   "file_extension": ".py",
   "mimetype": "text/x-python",
   "name": "python",
   "nbconvert_exporter": "python",
   "pygments_lexer": "ipython3",
   "version": "3.8.2"
  }
 },
 "nbformat": 4,
 "nbformat_minor": 5
}
