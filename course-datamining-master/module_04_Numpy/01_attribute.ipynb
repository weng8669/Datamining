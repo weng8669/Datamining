{
 "cells": [
  {
   "cell_type": "code",
   "execution_count": 1,
   "id": "46051d0a",
   "metadata": {},
   "outputs": [],
   "source": [
    "import numpy as np"
   ]
  },
  {
   "cell_type": "code",
   "execution_count": 2,
   "id": "ada5c4a5",
   "metadata": {},
   "outputs": [],
   "source": [
    "arr1 = np.zeros(3, dtype=int)\n",
    "arr2 = np.ones([2,3], dtype=float)\n",
    "arr3 = np.empty([2,3])\n",
    "arr4 = np.full([2,3,4], 111)\n",
    "arr5 = np.random.rand(2, 3)\n",
    "arr6 = np.random.randint(low=3, high=10, size=(1, 2, 3), dtype=int)"
   ]
  },
  {
   "cell_type": "code",
   "execution_count": 3,
   "id": "5bce0d2e",
   "metadata": {},
   "outputs": [
    {
     "name": "stdout",
     "output_type": "stream",
     "text": [
      "arr1維度 1\n",
      "arr2維度 2\n",
      "arr4維度 3\n",
      "arr6維度 3\n",
      "arr1 Shape (3,)\n",
      "arr2 Shape (2, 3)\n",
      "arr4 Shape (2, 3, 4)\n",
      "arr6 Shape (1, 2, 3)\n",
      "arr1 Size 3\n",
      "arr2 Size 6\n",
      "arr4 Size 24\n",
      "arr6 Size 6\n"
     ]
    }
   ],
   "source": [
    "# 陣列屬性\n",
    "print('arr1維度', arr1.ndim)\n",
    "print('arr2維度', arr2.ndim)\n",
    "print('arr4維度', arr4.ndim)\n",
    "print('arr6維度', arr6.ndim)\n",
    "\n",
    "print('arr1 Shape', arr1.shape)\n",
    "print('arr2 Shape', arr2.shape)\n",
    "print('arr4 Shape', arr4.shape)\n",
    "print('arr6 Shape', arr6.shape)\n",
    "\n",
    "print('arr1 Size', arr1.size)\n",
    "print('arr2 Size', arr2.size)\n",
    "print('arr4 Size', arr4.size)\n",
    "print('arr6 Size', arr6.size)"
   ]
  },
  {
   "cell_type": "code",
   "execution_count": 4,
   "id": "12459c1b",
   "metadata": {},
   "outputs": [
    {
     "data": {
      "text/plain": [
       "array([[[111, 111, 111, 111],\n",
       "        [111, 111, 111, 111],\n",
       "        [111, 111, 111, 111]],\n",
       "\n",
       "       [[111, 111, 111, 111],\n",
       "        [111, 111, 111, 111],\n",
       "        [111, 111, 111, 111]]])"
      ]
     },
     "execution_count": 4,
     "metadata": {},
     "output_type": "execute_result"
    }
   ],
   "source": [
    "# Reshape\n",
    "arr4"
   ]
  },
  {
   "cell_type": "code",
   "execution_count": 5,
   "id": "ca27e7b9",
   "metadata": {},
   "outputs": [
    {
     "data": {
      "text/plain": [
       "array([[111, 111, 111, 111, 111, 111, 111, 111, 111, 111, 111, 111],\n",
       "       [111, 111, 111, 111, 111, 111, 111, 111, 111, 111, 111, 111]])"
      ]
     },
     "execution_count": 5,
     "metadata": {},
     "output_type": "execute_result"
    }
   ],
   "source": [
    "arr4.reshape([2, 12])"
   ]
  },
  {
   "cell_type": "code",
   "execution_count": 6,
   "id": "b61a3432",
   "metadata": {},
   "outputs": [
    {
     "data": {
      "text/plain": [
       "array([[111, 111, 111, 111],\n",
       "       [111, 111, 111, 111],\n",
       "       [111, 111, 111, 111],\n",
       "       [111, 111, 111, 111],\n",
       "       [111, 111, 111, 111],\n",
       "       [111, 111, 111, 111]])"
      ]
     },
     "execution_count": 6,
     "metadata": {},
     "output_type": "execute_result"
    }
   ],
   "source": [
    "arr4.reshape([-1, 4])"
   ]
  },
  {
   "cell_type": "code",
   "execution_count": 7,
   "id": "648ae430",
   "metadata": {},
   "outputs": [
    {
     "ename": "ValueError",
     "evalue": "cannot reshape array of size 24 into shape (1,1)",
     "output_type": "error",
     "traceback": [
      "\u001b[0;31m---------------------------------------------------------------------------\u001b[0m",
      "\u001b[0;31mValueError\u001b[0m                                Traceback (most recent call last)",
      "Input \u001b[0;32mIn [7]\u001b[0m, in \u001b[0;36m<cell line: 1>\u001b[0;34m()\u001b[0m\n\u001b[0;32m----> 1\u001b[0m \u001b[43marr4\u001b[49m\u001b[38;5;241;43m.\u001b[39;49m\u001b[43mreshape\u001b[49m\u001b[43m(\u001b[49m\u001b[43m[\u001b[49m\u001b[38;5;241;43m1\u001b[39;49m\u001b[43m,\u001b[49m\u001b[43m \u001b[49m\u001b[38;5;241;43m1\u001b[39;49m\u001b[43m]\u001b[49m\u001b[43m)\u001b[49m\n",
      "\u001b[0;31mValueError\u001b[0m: cannot reshape array of size 24 into shape (1,1)"
     ]
    }
   ],
   "source": [
    "arr4.reshape([1, 1])"
   ]
  },
  {
   "cell_type": "code",
   "execution_count": null,
   "id": "d2b74383",
   "metadata": {},
   "outputs": [],
   "source": []
  }
 ],
 "metadata": {
  "kernelspec": {
   "display_name": "Python 3 (ipykernel)",
   "language": "python",
   "name": "python3"
  },
  "language_info": {
   "codemirror_mode": {
    "name": "ipython",
    "version": 3
   },
   "file_extension": ".py",
   "mimetype": "text/x-python",
   "name": "python",
   "nbconvert_exporter": "python",
   "pygments_lexer": "ipython3",
   "version": "3.8.2"
  }
 },
 "nbformat": 4,
 "nbformat_minor": 5
}
