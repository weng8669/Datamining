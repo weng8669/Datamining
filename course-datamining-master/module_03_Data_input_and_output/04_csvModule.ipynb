{
 "cells": [
  {
   "cell_type": "code",
   "execution_count": 1,
   "id": "8573ef64",
   "metadata": {
    "scrolled": true
   },
   "outputs": [
    {
     "name": "stdout",
     "output_type": "stream",
     "text": [
      "['推數', '噓數', '文章分數', '文章作者', '文章名稱', '發表時間']\n",
      "['25', '4', '21', 'Rusnake5566 (魯蛇+56 PTT最強帳號)', '[問卦] 兩個候選人選前一個月同時陣亡的可能性', 'Fri Oct  2 13:56:39 2020']\n",
      "['11', '11', '0', 'LoveMakeLove (ボケ)', '[新聞]江啟臣：兩岸是不對稱的戰爭 從募兵改徵兵', 'Wed Oct  7 18:53:08 2020']\n",
      "['1', '1', '0', 'Asce (Excalibur)', '[新聞] 高加索血戰破百死：亞美尼亞禁止役齡男', 'Fri Oct  2 13:07:43 2020']\n",
      "['20', '0', '20', 'MintSu (Simon)', '[問卦] 如果川普老婆死於武漢肺炎會怎麼樣？', 'Fri Oct  2 13:30:55 2020']\n",
      "['31', '2', '29', 'seiya2000 (風見)', '[問卦] 為什麼古代生物體型可以長到這麼大？', 'Fri Oct  2 12:35:18 2020']\n",
      "['106', '6', '100', 'kasumi5566 (霞)', '[問卦] 支那女生是不是都沒錢修補衣服', 'Fri Oct  2 13:43:25 2020']\n",
      "['0', '0', '0', 'aasawfish ()', '[問卦] 今天為什麼要降半旗', 'Wed Oct  7 17:34:21 2020']\n",
      "['3', '3', '0', 'douCai (D能統粉)', '[問卦] 八卦板的問卦484都毫無意義?', 'Fri Oct  2 12:46:14 2020']\n",
      "['11', '27', '-16', 'starport (輕鬆看)', '[新聞] 川普夫婦確診了！網友卻認為「案情不單', 'Fri Oct  2 14:30:34 2020']\n",
      "['6', '0', '6', 'trolleybus99 (不要問)', '[問卦] 習大大現在在想什麼', 'Fri Oct  2 14:07:53 2020']\n",
      "['4', '7', '-3', 'HTC92 (中国台湾人的驕傲-92共識)', '[問卦] 正妹讀大學時  大概會吃幾根香腸?', 'Wed Oct  7 18:41:32 2020']\n",
      "['2', '4', '-2', 'Huffman (David)', '[問卦] 美帝統領中瘟疫了 現在是解放台灣時候?', 'Fri Oct  2 13:20:56 2020']\n",
      "['3', '0', '3', 'smallpig02 (小豬二號)', '[問卦] 美軍、參聯會現在想什麼?', 'Fri Oct  2 14:30:49 2020']\n",
      "['2', '4', '-2', 'hk410050 (A柏)', '[新聞] 國際藝文人士來台可申請專案縮短隔離 國', 'Wed Oct  7 16:53:31 2020']\n",
      "['36', '4', '32', 'tennoji2003 ()', '[問卦] 隨便說三個你會的做愛技巧！', 'Wed Oct  7 17:55:20 2020']\n",
      "['4', '0', '4', 'XDDDpupu5566 (XDpu56家族)', '[問卦] 亡國之君在想什麼？', 'Fri Oct  2 14:13:42 2020']\n"
     ]
    }
   ],
   "source": [
    "import csv\n",
    "\n",
    "# Open CSV file\n",
    "with open('./pttGossiping.csv', newline='') as csvfile:\n",
    "\n",
    "    # Read CSV context\n",
    "    rows = csv.reader(csvfile)\n",
    "\n",
    "    # Print each row\n",
    "    for row in rows:\n",
    "        print(row)"
   ]
  },
  {
   "cell_type": "code",
   "execution_count": 2,
   "id": "49504350",
   "metadata": {
    "scrolled": true
   },
   "outputs": [
    {
     "name": "stdout",
     "output_type": "stream",
     "text": [
      "['推數', '噓數', '文章分數', '文章作者', '文章名稱', '發表時間']\n",
      "['25', '4', '21', 'Rusnake5566 (魯蛇+56 PTT最強帳號)', '[問卦] 兩個候選人選前一個月同時陣亡的可能性', 'Fri Oct  2 13:56:39 2020']\n",
      "['11', '11', '0', 'LoveMakeLove (ボケ)', '[新聞]江啟臣：兩岸是不對稱的戰爭 從募兵改徵兵', 'Wed Oct  7 18:53:08 2020']\n",
      "['1', '1', '0', 'Asce (Excalibur)', '[新聞] 高加索血戰破百死：亞美尼亞禁止役齡男', 'Fri Oct  2 13:07:43 2020']\n",
      "['20', '0', '20', 'MintSu (Simon)', '[問卦] 如果川普老婆死於武漢肺炎會怎麼樣？', 'Fri Oct  2 13:30:55 2020']\n",
      "['31', '2', '29', 'seiya2000 (風見)', '[問卦] 為什麼古代生物體型可以長到這麼大？', 'Fri Oct  2 12:35:18 2020']\n",
      "['106', '6', '100', 'kasumi5566 (霞)', '[問卦] 支那女生是不是都沒錢修補衣服', 'Fri Oct  2 13:43:25 2020']\n",
      "['0', '0', '0', 'aasawfish ()', '[問卦] 今天為什麼要降半旗', 'Wed Oct  7 17:34:21 2020']\n",
      "['3', '3', '0', 'douCai (D能統粉)', '[問卦] 八卦板的問卦484都毫無意義?', 'Fri Oct  2 12:46:14 2020']\n",
      "['11', '27', '-16', 'starport (輕鬆看)', '[新聞] 川普夫婦確診了！網友卻認為「案情不單', 'Fri Oct  2 14:30:34 2020']\n",
      "['6', '0', '6', 'trolleybus99 (不要問)', '[問卦] 習大大現在在想什麼', 'Fri Oct  2 14:07:53 2020']\n",
      "['4', '7', '-3', 'HTC92 (中国台湾人的驕傲-92共識)', '[問卦] 正妹讀大學時  大概會吃幾根香腸?', 'Wed Oct  7 18:41:32 2020']\n",
      "['2', '4', '-2', 'Huffman (David)', '[問卦] 美帝統領中瘟疫了 現在是解放台灣時候?', 'Fri Oct  2 13:20:56 2020']\n",
      "['3', '0', '3', 'smallpig02 (小豬二號)', '[問卦] 美軍、參聯會現在想什麼?', 'Fri Oct  2 14:30:49 2020']\n",
      "['2', '4', '-2', 'hk410050 (A柏)', '[新聞] 國際藝文人士來台可申請專案縮短隔離 國', 'Wed Oct  7 16:53:31 2020']\n",
      "['36', '4', '32', 'tennoji2003 ()', '[問卦] 隨便說三個你會的做愛技巧！', 'Wed Oct  7 17:55:20 2020']\n",
      "['4', '0', '4', 'XDDDpupu5566 (XDpu56家族)', '[問卦] 亡國之君在想什麼？', 'Fri Oct  2 14:13:42 2020']\n"
     ]
    }
   ],
   "source": [
    "import csv\n",
    "\n",
    "# Open other file\n",
    "with open('./pttGossiping.tsv', newline='') as csvfile:\n",
    "\n",
    "    # Customed delimiter\n",
    "    rows = csv.reader(csvfile, delimiter='\\t')\n",
    "\n",
    "    # Print each row\n",
    "    for row in rows:\n",
    "        print(row)"
   ]
  },
  {
   "cell_type": "code",
   "execution_count": 3,
   "id": "5a972f25",
   "metadata": {},
   "outputs": [],
   "source": [
    "with open('./testoutput.csv', 'w', newline='') as csvfile:\n",
    "    # Create CSV writer\n",
    "    writer = csv.writer(csvfile)\n",
    "\n",
    "    # Write a row data\n",
    "    writer.writerow(['Name', 'Height', 'Weight'])\n",
    "\n",
    "    writer.writerow(['Allen', 175, 70])\n",
    "    writer.writerow(['Ted', 180, 80])"
   ]
  },
  {
   "cell_type": "code",
   "execution_count": 4,
   "id": "79795e7c",
   "metadata": {},
   "outputs": [],
   "source": [
    "with open('./testoutput.tsv', 'w', newline='') as csvfile:\n",
    "    # Create CSV writer\n",
    "    writer = csv.writer(csvfile, delimiter='\\t')\n",
    "\n",
    "    # Write a row data\n",
    "    writer.writerow(['Name', 'Height', 'Weight'])\n",
    "\n",
    "    writer.writerow(['Allen', 175, 70])\n",
    "    writer.writerow(['Ted', 180, 80])"
   ]
  },
  {
   "cell_type": "code",
   "execution_count": 5,
   "id": "adf5d3a2",
   "metadata": {},
   "outputs": [],
   "source": [
    "with open('./testoutput_quote.tsv', 'w', newline='') as csvfile:\n",
    "    # Create CSV writer\n",
    "    writer = csv.writer(csvfile, delimiter='\\t', quotechar='\"', quoting=csv.QUOTE_NONNUMERIC)\n",
    "\n",
    "    # Write a row data\n",
    "    writer.writerow(['Name', 'Height', 'Weight'])\n",
    "\n",
    "    writer.writerow(['Allen', 175, 70])\n",
    "    writer.writerow(['Ted', 180, 80])"
   ]
  },
  {
   "cell_type": "code",
   "execution_count": 6,
   "id": "29ec82cc",
   "metadata": {},
   "outputs": [
    {
     "name": "stdout",
     "output_type": "stream",
     "text": [
      "['Name', 'Height', 'Weight']\n",
      "['Allen', 175.0, 70.0]\n",
      "['Ted', 180.0, 80.0]\n"
     ]
    }
   ],
   "source": [
    "# Open CSV file\n",
    "with open('./testoutput_quote.tsv', newline='') as csvfile:\n",
    "\n",
    "    # Read CSV context\n",
    "    rows = csv.reader(csvfile, delimiter='\\t', quotechar='\"', quoting=csv.QUOTE_NONNUMERIC)\n",
    "\n",
    "    # Print each row\n",
    "    for row in rows:\n",
    "        print(row)"
   ]
  },
  {
   "cell_type": "code",
   "execution_count": null,
   "id": "263387ac",
   "metadata": {},
   "outputs": [],
   "source": []
  }
 ],
 "metadata": {
  "kernelspec": {
   "display_name": "Python 3 (ipykernel)",
   "language": "python",
   "name": "python3"
  },
  "language_info": {
   "codemirror_mode": {
    "name": "ipython",
    "version": 3
   },
   "file_extension": ".py",
   "mimetype": "text/x-python",
   "name": "python",
   "nbconvert_exporter": "python",
   "pygments_lexer": "ipython3",
   "version": "3.8.2"
  }
 },
 "nbformat": 4,
 "nbformat_minor": 5
}
