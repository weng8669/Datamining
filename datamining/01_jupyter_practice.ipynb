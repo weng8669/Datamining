{
 "cells": [
  {
   "cell_type": "code",
   "execution_count": null,
   "id": "22e26719",
   "metadata": {},
   "outputs": [],
   "source": [
    "print(123)"
   ]
  },
  {
   "cell_type": "code",
   "execution_count": null,
   "id": "c8447faf",
   "metadata": {},
   "outputs": [],
   "source": [
    "a = 1"
   ]
  },
  {
   "cell_type": "code",
   "execution_count": null,
   "id": "60e072bc",
   "metadata": {},
   "outputs": [],
   "source": [
    "print(a)"
   ]
  },
  {
   "cell_type": "code",
   "execution_count": null,
   "id": "a2cc2808",
   "metadata": {},
   "outputs": [],
   "source": [
    "b = 2"
   ]
  },
  {
   "cell_type": "code",
   "execution_count": null,
   "id": "2832d395",
   "metadata": {},
   "outputs": [],
   "source": [
    "print(b)"
   ]
  },
  {
   "cell_type": "markdown",
   "id": "508c1dc4",
   "metadata": {},
   "source": [
    "# Title1\n",
    "## step1\n",
    "## step2"
   ]
  },
  {
   "cell_type": "code",
   "execution_count": 1,
   "id": "c0a8e8f8",
   "metadata": {},
   "outputs": [
    {
     "ename": "ModuleNotFoundError",
     "evalue": "No module named 'requests'",
     "output_type": "error",
     "traceback": [
      "\u001b[0;31m---------------------------------------------------------------------------\u001b[0m",
      "\u001b[0;31mModuleNotFoundError\u001b[0m                       Traceback (most recent call last)",
      "Cell \u001b[0;32mIn[1], line 1\u001b[0m\n\u001b[0;32m----> 1\u001b[0m \u001b[38;5;28;01mimport\u001b[39;00m \u001b[38;5;21;01mrequests\u001b[39;00m\n\u001b[1;32m      3\u001b[0m url \u001b[38;5;241m=\u001b[39m \u001b[38;5;124m\"\u001b[39m\u001b[38;5;124mhttps://www.ptt.cc/bbs/Gossiping/index.html\u001b[39m\u001b[38;5;124m\"\u001b[39m\n\u001b[1;32m      4\u001b[0m first_page_url \u001b[38;5;241m=\u001b[39m \u001b[38;5;124m\"\u001b[39m\u001b[38;5;124mhttps://www.ptt.cc/ask/over18?from=\u001b[39m\u001b[38;5;132;01m%2F\u001b[39;00m\u001b[38;5;124mbbs\u001b[39m\u001b[38;5;132;01m%2F\u001b[39;00m\u001b[38;5;124mGossiping\u001b[39m\u001b[38;5;132;01m%2F\u001b[39;00m\u001b[38;5;124mindex.html\u001b[39m\u001b[38;5;124m\"\u001b[39m\n",
      "\u001b[0;31mModuleNotFoundError\u001b[0m: No module named 'requests'"
     ]
    }
   ],
   "source": [
    "import requests\n",
    "\n",
    "url = \"https://www.ptt.cc/bbs/Gossiping/index.html\"\n",
    "first_page_url = \"https://www.ptt.cc/ask/over18?from=%2Fbbs%2FGossiping%2Findex.html\"\n",
    "over_18_url = \"https://www.ptt.cc/ask/over18\"\n",
    "\n",
    "headers = {\n",
    "    \"User-Agent\": \"Mozilla/5.0 (Macintosh; Intel Mac OS X 10_15_7) AppleWebKit/537.36 (KHTML, like Gecko) Chrome/110.0.0.0 Safari/537.36\"\n",
    "}\n",
    "\n",
    "ss = requests.session()\n",
    "print(ss.cookies)\n",
    "\n",
    "ss.get(first_page_url, headers=headers)\n",
    "print(ss.cookies)\n",
    "\n",
    "data = {\n",
    "    \"from\": \"/bbs/Gossiping/index.html\",\n",
    "    \"yes\": \"yes\",\n",
    "}\n",
    "\n",
    "ss.post(over_18_url, headers=headers, data=data)\n",
    "print(ss.cookies)\n",
    "\n",
    "res = ss.get(url, headers=headers)\n",
    "print(res.text)\n",
    "\n",
    "\n"
   ]
  },
  {
   "cell_type": "code",
   "execution_count": null,
   "id": "48b70de8",
   "metadata": {},
   "outputs": [],
   "source": []
  }
 ],
 "metadata": {
  "kernelspec": {
   "display_name": "Python 3 (ipykernel)",
   "language": "python",
   "name": "python3"
  },
  "language_info": {
   "codemirror_mode": {
    "name": "ipython",
    "version": 3
   },
   "file_extension": ".py",
   "mimetype": "text/x-python",
   "name": "python",
   "nbconvert_exporter": "python",
   "pygments_lexer": "ipython3",
   "version": "3.8.2"
  }
 },
 "nbformat": 4,
 "nbformat_minor": 5
}
