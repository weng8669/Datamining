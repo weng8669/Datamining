{
 "cells": [
  {
   "cell_type": "code",
   "execution_count": 1,
   "id": "e50eb7eb",
   "metadata": {},
   "outputs": [
    {
     "data": {
      "text/plain": [
       "{'__name__': '__main__',\n",
       " '__doc__': 'Automatically created module for IPython interactive environment',\n",
       " '__package__': None,\n",
       " '__loader__': None,\n",
       " '__spec__': None,\n",
       " '__builtin__': <module 'builtins' (built-in)>,\n",
       " '__builtins__': <module 'builtins' (built-in)>,\n",
       " '_ih': ['', 'globals()'],\n",
       " '_oh': {},\n",
       " '_dh': [PosixPath('/Users/uuboy.scy/PycharmProjects/chi101/DataMining')],\n",
       " 'In': ['', 'globals()'],\n",
       " 'Out': {},\n",
       " 'get_ipython': <bound method InteractiveShell.get_ipython of <ipykernel.zmqshell.ZMQInteractiveShell object at 0x7fe2b03f7430>>,\n",
       " 'exit': <IPython.core.autocall.ZMQExitAutocall at 0x7fe2707e5250>,\n",
       " 'quit': <IPython.core.autocall.ZMQExitAutocall at 0x7fe2707e5250>,\n",
       " 'open': <function io.open(file, mode='r', buffering=-1, encoding=None, errors=None, newline=None, closefd=True, opener=None)>,\n",
       " '_': '',\n",
       " '__': '',\n",
       " '___': '',\n",
       " '_i': '',\n",
       " '_ii': '',\n",
       " '_iii': '',\n",
       " '_i1': 'globals()'}"
      ]
     },
     "execution_count": 1,
     "metadata": {},
     "output_type": "execute_result"
    }
   ],
   "source": [
    "globals()"
   ]
  },
  {
   "cell_type": "code",
   "execution_count": 2,
   "id": "408aa3d4",
   "metadata": {},
   "outputs": [],
   "source": [
    "aaa = 123"
   ]
  },
  {
   "cell_type": "code",
   "execution_count": 3,
   "id": "cac54af6",
   "metadata": {},
   "outputs": [
    {
     "data": {
      "text/plain": [
       "{'__name__': '__main__',\n",
       " '__doc__': 'Automatically created module for IPython interactive environment',\n",
       " '__package__': None,\n",
       " '__loader__': None,\n",
       " '__spec__': None,\n",
       " '__builtin__': <module 'builtins' (built-in)>,\n",
       " '__builtins__': <module 'builtins' (built-in)>,\n",
       " '_ih': ['', 'globals()', 'aaa = 123', 'globals()'],\n",
       " '_oh': {1: {...}},\n",
       " '_dh': [PosixPath('/Users/uuboy.scy/PycharmProjects/chi101/DataMining')],\n",
       " 'In': ['', 'globals()', 'aaa = 123', 'globals()'],\n",
       " 'Out': {1: {...}},\n",
       " 'get_ipython': <bound method InteractiveShell.get_ipython of <ipykernel.zmqshell.ZMQInteractiveShell object at 0x7fe2b03f7430>>,\n",
       " 'exit': <IPython.core.autocall.ZMQExitAutocall at 0x7fe2707e5250>,\n",
       " 'quit': <IPython.core.autocall.ZMQExitAutocall at 0x7fe2707e5250>,\n",
       " 'open': <function io.open(file, mode='r', buffering=-1, encoding=None, errors=None, newline=None, closefd=True, opener=None)>,\n",
       " '_': {...},\n",
       " '__': '',\n",
       " '___': '',\n",
       " '_i': 'aaa = 123',\n",
       " '_ii': 'globals()',\n",
       " '_iii': '',\n",
       " '_i1': 'globals()',\n",
       " '_1': {...},\n",
       " '_i2': 'aaa = 123',\n",
       " 'aaa': 123,\n",
       " '_i3': 'globals()'}"
      ]
     },
     "execution_count": 3,
     "metadata": {},
     "output_type": "execute_result"
    }
   ],
   "source": [
    "globals()"
   ]
  },
  {
   "cell_type": "code",
   "execution_count": 4,
   "id": "7690e9e6",
   "metadata": {},
   "outputs": [
    {
     "data": {
      "text/plain": [
       "{'__name__': '__main__',\n",
       " '__doc__': 'Automatically created module for IPython interactive environment',\n",
       " '__package__': None,\n",
       " '__loader__': None,\n",
       " '__spec__': None,\n",
       " '__builtin__': <module 'builtins' (built-in)>,\n",
       " '__builtins__': <module 'builtins' (built-in)>,\n",
       " '_ih': ['', 'globals()', 'aaa = 123', 'globals()', 'locals()'],\n",
       " '_oh': {1: {...}, 3: {...}},\n",
       " '_dh': [PosixPath('/Users/uuboy.scy/PycharmProjects/chi101/DataMining')],\n",
       " 'In': ['', 'globals()', 'aaa = 123', 'globals()', 'locals()'],\n",
       " 'Out': {1: {...}, 3: {...}},\n",
       " 'get_ipython': <bound method InteractiveShell.get_ipython of <ipykernel.zmqshell.ZMQInteractiveShell object at 0x7fe2b03f7430>>,\n",
       " 'exit': <IPython.core.autocall.ZMQExitAutocall at 0x7fe2707e5250>,\n",
       " 'quit': <IPython.core.autocall.ZMQExitAutocall at 0x7fe2707e5250>,\n",
       " 'open': <function io.open(file, mode='r', buffering=-1, encoding=None, errors=None, newline=None, closefd=True, opener=None)>,\n",
       " '_': {...},\n",
       " '__': {...},\n",
       " '___': '',\n",
       " '_i': 'globals()',\n",
       " '_ii': 'aaa = 123',\n",
       " '_iii': 'globals()',\n",
       " '_i1': 'globals()',\n",
       " '_1': {...},\n",
       " '_i2': 'aaa = 123',\n",
       " 'aaa': 123,\n",
       " '_i3': 'globals()',\n",
       " '_3': {...},\n",
       " '_i4': 'locals()'}"
      ]
     },
     "execution_count": 4,
     "metadata": {},
     "output_type": "execute_result"
    }
   ],
   "source": [
    "locals()"
   ]
  },
  {
   "cell_type": "code",
   "execution_count": 5,
   "id": "c1e55258",
   "metadata": {},
   "outputs": [],
   "source": [
    "def test():\n",
    "    ttt = 456\n",
    "    print(locals())"
   ]
  },
  {
   "cell_type": "code",
   "execution_count": 6,
   "id": "f2094581",
   "metadata": {},
   "outputs": [
    {
     "name": "stdout",
     "output_type": "stream",
     "text": [
      "{'ttt': 456}\n"
     ]
    }
   ],
   "source": [
    "test()"
   ]
  },
  {
   "cell_type": "code",
   "execution_count": 7,
   "id": "edf1415d",
   "metadata": {},
   "outputs": [
    {
     "data": {
      "text/plain": [
       "{'__name__': '__main__',\n",
       " '__doc__': 'Automatically created module for IPython interactive environment',\n",
       " '__package__': None,\n",
       " '__loader__': None,\n",
       " '__spec__': None,\n",
       " '__builtin__': <module 'builtins' (built-in)>,\n",
       " '__builtins__': <module 'builtins' (built-in)>,\n",
       " '_ih': ['',\n",
       "  'globals()',\n",
       "  'aaa = 123',\n",
       "  'globals()',\n",
       "  'locals()',\n",
       "  'def test():\\n    ttt = 456\\n    print(locals())',\n",
       "  'test()',\n",
       "  'locals()'],\n",
       " '_oh': {1: {...}, 3: {...}, 4: {...}},\n",
       " '_dh': [PosixPath('/Users/uuboy.scy/PycharmProjects/chi101/DataMining')],\n",
       " 'In': ['',\n",
       "  'globals()',\n",
       "  'aaa = 123',\n",
       "  'globals()',\n",
       "  'locals()',\n",
       "  'def test():\\n    ttt = 456\\n    print(locals())',\n",
       "  'test()',\n",
       "  'locals()'],\n",
       " 'Out': {1: {...}, 3: {...}, 4: {...}},\n",
       " 'get_ipython': <bound method InteractiveShell.get_ipython of <ipykernel.zmqshell.ZMQInteractiveShell object at 0x7fe2b03f7430>>,\n",
       " 'exit': <IPython.core.autocall.ZMQExitAutocall at 0x7fe2707e5250>,\n",
       " 'quit': <IPython.core.autocall.ZMQExitAutocall at 0x7fe2707e5250>,\n",
       " 'open': <function io.open(file, mode='r', buffering=-1, encoding=None, errors=None, newline=None, closefd=True, opener=None)>,\n",
       " '_': {...},\n",
       " '__': {...},\n",
       " '___': {...},\n",
       " '_i': 'test()',\n",
       " '_ii': 'def test():\\n    ttt = 456\\n    print(locals())',\n",
       " '_iii': 'locals()',\n",
       " '_i1': 'globals()',\n",
       " '_1': {...},\n",
       " '_i2': 'aaa = 123',\n",
       " 'aaa': 123,\n",
       " '_i3': 'globals()',\n",
       " '_3': {...},\n",
       " '_i4': 'locals()',\n",
       " '_4': {...},\n",
       " '_i5': 'def test():\\n    ttt = 456\\n    print(locals())',\n",
       " 'test': <function __main__.test()>,\n",
       " '_i6': 'test()',\n",
       " '_i7': 'locals()'}"
      ]
     },
     "execution_count": 7,
     "metadata": {},
     "output_type": "execute_result"
    }
   ],
   "source": [
    "locals()"
   ]
  },
  {
   "cell_type": "code",
   "execution_count": null,
   "id": "3fa310ad",
   "metadata": {},
   "outputs": [],
   "source": []
  }
 ],
 "metadata": {
  "kernelspec": {
   "display_name": "Python 3 (ipykernel)",
   "language": "python",
   "name": "python3"
  },
  "language_info": {
   "codemirror_mode": {
    "name": "ipython",
    "version": 3
   },
   "file_extension": ".py",
   "mimetype": "text/x-python",
   "name": "python",
   "nbconvert_exporter": "python",
   "pygments_lexer": "ipython3",
   "version": "3.8.2"
  }
 },
 "nbformat": 4,
 "nbformat_minor": 5
}
