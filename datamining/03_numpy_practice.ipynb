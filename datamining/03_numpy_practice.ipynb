{
 "cells": [
  {
   "cell_type": "code",
   "execution_count": 1,
   "id": "6616d469",
   "metadata": {},
   "outputs": [],
   "source": [
    "!pip install numpy"
   ]
  },
  {
   "cell_type": "code",
   "execution_count": 1,
   "id": "67697f15",
   "metadata": {},
   "outputs": [],
   "source": [
    "import numpy as np"
   ]
  },
  {
   "cell_type": "code",
   "execution_count": 3,
   "id": "0b710d55",
   "metadata": {},
   "outputs": [
    {
     "data": {
      "text/plain": [
       "array([0., 0., 0.])"
      ]
     },
     "execution_count": 3,
     "metadata": {},
     "output_type": "execute_result"
    }
   ],
   "source": [
    "np.zeros(3)"
   ]
  },
  {
   "cell_type": "code",
   "execution_count": 4,
   "id": "4e6eaf66",
   "metadata": {},
   "outputs": [
    {
     "data": {
      "text/plain": [
       "numpy.ndarray"
      ]
     },
     "execution_count": 4,
     "metadata": {},
     "output_type": "execute_result"
    }
   ],
   "source": [
    "type(np.zeros(3))"
   ]
  },
  {
   "cell_type": "code",
   "execution_count": 6,
   "id": "eb724d50",
   "metadata": {},
   "outputs": [
    {
     "data": {
      "text/plain": [
       "array([[0, 0, 0],\n",
       "       [0, 0, 0]])"
      ]
     },
     "execution_count": 6,
     "metadata": {},
     "output_type": "execute_result"
    }
   ],
   "source": [
    "np.zeros((2, 3), dtype=int)"
   ]
  },
  {
   "cell_type": "code",
   "execution_count": 7,
   "id": "aa259617",
   "metadata": {},
   "outputs": [
    {
     "data": {
      "text/plain": [
       "array([1., 1., 1., 1., 1.])"
      ]
     },
     "execution_count": 7,
     "metadata": {},
     "output_type": "execute_result"
    }
   ],
   "source": [
    "np.ones(5)"
   ]
  },
  {
   "cell_type": "code",
   "execution_count": 8,
   "id": "08c1478c",
   "metadata": {},
   "outputs": [
    {
     "data": {
      "text/plain": [
       "array([1, 1, 1, 1, 1])"
      ]
     },
     "execution_count": 8,
     "metadata": {},
     "output_type": "execute_result"
    }
   ],
   "source": [
    "np.ones(5, dtype=int)"
   ]
  },
  {
   "cell_type": "code",
   "execution_count": 10,
   "id": "4dbfa1b9",
   "metadata": {},
   "outputs": [
    {
     "data": {
      "text/plain": [
       "array([[ 2.60605835e-31, -5.21211670e-31,  1.30302917e-31],\n",
       "       [-5.21211670e-31,  1.13363538e-30, -3.51817877e-31],\n",
       "       [ 1.30302917e-31, -3.51817877e-31,  2.01969522e-31]])"
      ]
     },
     "execution_count": 10,
     "metadata": {},
     "output_type": "execute_result"
    }
   ],
   "source": [
    "np.empty((3, 3))"
   ]
  },
  {
   "cell_type": "code",
   "execution_count": 11,
   "id": "b832e1be",
   "metadata": {},
   "outputs": [
    {
     "data": {
      "text/plain": [
       "array([255, 255, 255])"
      ]
     },
     "execution_count": 11,
     "metadata": {},
     "output_type": "execute_result"
    }
   ],
   "source": [
    "np.full(3, 255)"
   ]
  },
  {
   "cell_type": "code",
   "execution_count": 13,
   "id": "e0c5d133",
   "metadata": {},
   "outputs": [
    {
     "data": {
      "text/plain": [
       "array([[0.24865617, 0.84216393, 0.8179425 , 0.44264779, 0.02085278],\n",
       "       [0.11568614, 0.78756894, 0.45456055, 0.97893599, 0.48750745]])"
      ]
     },
     "execution_count": 13,
     "metadata": {},
     "output_type": "execute_result"
    }
   ],
   "source": [
    "np.random.rand(2,5)"
   ]
  },
  {
   "cell_type": "code",
   "execution_count": 14,
   "id": "3c5b1015",
   "metadata": {},
   "outputs": [
    {
     "data": {
      "text/plain": [
       "array([[3, 5, 5],\n",
       "       [6, 6, 2]])"
      ]
     },
     "execution_count": 14,
     "metadata": {},
     "output_type": "execute_result"
    }
   ],
   "source": [
    "np.random.randint(low=2, high=8, size=(2, 3), dtype=int)"
   ]
  },
  {
   "cell_type": "code",
   "execution_count": 15,
   "id": "16664994",
   "metadata": {},
   "outputs": [
    {
     "data": {
      "text/plain": [
       "array([2, 4, 4])"
      ]
     },
     "execution_count": 15,
     "metadata": {},
     "output_type": "execute_result"
    }
   ],
   "source": [
    "test_arr = np.array([2, 4, 4])\n",
    "test_arr"
   ]
  },
  {
   "cell_type": "code",
   "execution_count": 16,
   "id": "7427c1ce",
   "metadata": {},
   "outputs": [
    {
     "data": {
      "text/plain": [
       "1"
      ]
     },
     "execution_count": 16,
     "metadata": {},
     "output_type": "execute_result"
    }
   ],
   "source": [
    "test_arr.ndim"
   ]
  },
  {
   "cell_type": "code",
   "execution_count": 17,
   "id": "e36a7684",
   "metadata": {},
   "outputs": [
    {
     "data": {
      "text/plain": [
       "(3,)"
      ]
     },
     "execution_count": 17,
     "metadata": {},
     "output_type": "execute_result"
    }
   ],
   "source": [
    "test_arr.shape"
   ]
  },
  {
   "cell_type": "code",
   "execution_count": 18,
   "id": "01037257",
   "metadata": {},
   "outputs": [
    {
     "data": {
      "text/plain": [
       "3"
      ]
     },
     "execution_count": 18,
     "metadata": {},
     "output_type": "execute_result"
    }
   ],
   "source": [
    "test_arr.size"
   ]
  },
  {
   "cell_type": "code",
   "execution_count": 19,
   "id": "275ea75b",
   "metadata": {},
   "outputs": [
    {
     "data": {
      "text/plain": [
       "(2, 3)"
      ]
     },
     "execution_count": 19,
     "metadata": {},
     "output_type": "execute_result"
    }
   ],
   "source": [
    "np.random.randint(low=2, high=8, size=(2, 3), dtype=int).shape"
   ]
  },
  {
   "cell_type": "code",
   "execution_count": 20,
   "id": "d4f729dd",
   "metadata": {},
   "outputs": [
    {
     "data": {
      "text/plain": [
       "6"
      ]
     },
     "execution_count": 20,
     "metadata": {},
     "output_type": "execute_result"
    }
   ],
   "source": [
    "np.random.randint(low=2, high=8, size=(2, 3), dtype=int).size"
   ]
  },
  {
   "cell_type": "code",
   "execution_count": 21,
   "id": "2255e947",
   "metadata": {},
   "outputs": [
    {
     "data": {
      "text/plain": [
       "array([[5, 5, 7],\n",
       "       [2, 2, 4]])"
      ]
     },
     "execution_count": 21,
     "metadata": {},
     "output_type": "execute_result"
    }
   ],
   "source": [
    "arr = np.random.randint(low=2, high=8, size=(2, 3), dtype=int)\n",
    "arr"
   ]
  },
  {
   "cell_type": "code",
   "execution_count": 22,
   "id": "4f845263",
   "metadata": {},
   "outputs": [
    {
     "data": {
      "text/plain": [
       "array([[5, 5],\n",
       "       [7, 2],\n",
       "       [2, 4]])"
      ]
     },
     "execution_count": 22,
     "metadata": {},
     "output_type": "execute_result"
    }
   ],
   "source": [
    "arr.reshape((3, 2))"
   ]
  },
  {
   "cell_type": "code",
   "execution_count": 23,
   "id": "141cbfea",
   "metadata": {},
   "outputs": [
    {
     "data": {
      "text/plain": [
       "array([[5, 5],\n",
       "       [7, 2],\n",
       "       [2, 4]])"
      ]
     },
     "execution_count": 23,
     "metadata": {},
     "output_type": "execute_result"
    }
   ],
   "source": [
    "arr.reshape((3, -1))"
   ]
  },
  {
   "cell_type": "code",
   "execution_count": null,
   "id": "d58aa9aa",
   "metadata": {},
   "outputs": [],
   "source": [
    "a,1,t,7,8,5,6,9,8,1,a,1,t,7,8,5,6,9,8,1,a,1,t,7,8,5,6,9,8,1,a,1,t,7,8,5,6,9,8,1\n",
    "arr.reshape((-1, 10))"
   ]
  },
  {
   "cell_type": "code",
   "execution_count": 24,
   "id": "8d96341d",
   "metadata": {},
   "outputs": [
    {
     "data": {
      "text/plain": [
       "array([1, 2, 3, 4, 5, 6])"
      ]
     },
     "execution_count": 24,
     "metadata": {},
     "output_type": "execute_result"
    }
   ],
   "source": [
    "arr = np.array([1, 2, 3, 4, 5, 6])\n",
    "arr"
   ]
  },
  {
   "cell_type": "code",
   "execution_count": 25,
   "id": "492ab60b",
   "metadata": {},
   "outputs": [
    {
     "data": {
      "text/plain": [
       "3.5"
      ]
     },
     "execution_count": 25,
     "metadata": {},
     "output_type": "execute_result"
    }
   ],
   "source": [
    "arr.mean()"
   ]
  },
  {
   "cell_type": "code",
   "execution_count": 26,
   "id": "7df999a6",
   "metadata": {},
   "outputs": [
    {
     "data": {
      "text/plain": [
       "3.5"
      ]
     },
     "execution_count": 26,
     "metadata": {},
     "output_type": "execute_result"
    }
   ],
   "source": [
    "np.mean(arr)"
   ]
  },
  {
   "cell_type": "code",
   "execution_count": 27,
   "id": "13b621f6",
   "metadata": {},
   "outputs": [
    {
     "data": {
      "text/plain": [
       "6"
      ]
     },
     "execution_count": 27,
     "metadata": {},
     "output_type": "execute_result"
    }
   ],
   "source": [
    "arr.max()"
   ]
  },
  {
   "cell_type": "code",
   "execution_count": 28,
   "id": "3accd4bd",
   "metadata": {},
   "outputs": [
    {
     "data": {
      "text/plain": [
       "1"
      ]
     },
     "execution_count": 28,
     "metadata": {},
     "output_type": "execute_result"
    }
   ],
   "source": [
    "arr.min()"
   ]
  },
  {
   "cell_type": "code",
   "execution_count": 29,
   "id": "754977de",
   "metadata": {},
   "outputs": [
    {
     "data": {
      "text/plain": [
       "3.5"
      ]
     },
     "execution_count": 29,
     "metadata": {},
     "output_type": "execute_result"
    }
   ],
   "source": [
    "np.median(arr)"
   ]
  },
  {
   "cell_type": "code",
   "execution_count": 30,
   "id": "34796327",
   "metadata": {
    "scrolled": true
   },
   "outputs": [
    {
     "name": "stdout",
     "output_type": "stream",
     "text": [
      "Help on function median in module numpy:\n",
      "\n",
      "median(a, axis=None, out=None, overwrite_input=False, keepdims=False)\n",
      "    Compute the median along the specified axis.\n",
      "    \n",
      "    Returns the median of the array elements.\n",
      "    \n",
      "    Parameters\n",
      "    ----------\n",
      "    a : array_like\n",
      "        Input array or object that can be converted to an array.\n",
      "    axis : {int, sequence of int, None}, optional\n",
      "        Axis or axes along which the medians are computed. The default\n",
      "        is to compute the median along a flattened version of the array.\n",
      "        A sequence of axes is supported since version 1.9.0.\n",
      "    out : ndarray, optional\n",
      "        Alternative output array in which to place the result. It must\n",
      "        have the same shape and buffer length as the expected output,\n",
      "        but the type (of the output) will be cast if necessary.\n",
      "    overwrite_input : bool, optional\n",
      "       If True, then allow use of memory of input array `a` for\n",
      "       calculations. The input array will be modified by the call to\n",
      "       `median`. This will save memory when you do not need to preserve\n",
      "       the contents of the input array. Treat the input as undefined,\n",
      "       but it will probably be fully or partially sorted. Default is\n",
      "       False. If `overwrite_input` is ``True`` and `a` is not already an\n",
      "       `ndarray`, an error will be raised.\n",
      "    keepdims : bool, optional\n",
      "        If this is set to True, the axes which are reduced are left\n",
      "        in the result as dimensions with size one. With this option,\n",
      "        the result will broadcast correctly against the original `arr`.\n",
      "    \n",
      "        .. versionadded:: 1.9.0\n",
      "    \n",
      "    Returns\n",
      "    -------\n",
      "    median : ndarray\n",
      "        A new array holding the result. If the input contains integers\n",
      "        or floats smaller than ``float64``, then the output data-type is\n",
      "        ``np.float64``.  Otherwise, the data-type of the output is the\n",
      "        same as that of the input. If `out` is specified, that array is\n",
      "        returned instead.\n",
      "    \n",
      "    See Also\n",
      "    --------\n",
      "    mean, percentile\n",
      "    \n",
      "    Notes\n",
      "    -----\n",
      "    Given a vector ``V`` of length ``N``, the median of ``V`` is the\n",
      "    middle value of a sorted copy of ``V``, ``V_sorted`` - i\n",
      "    e., ``V_sorted[(N-1)/2]``, when ``N`` is odd, and the average of the\n",
      "    two middle values of ``V_sorted`` when ``N`` is even.\n",
      "    \n",
      "    Examples\n",
      "    --------\n",
      "    >>> a = np.array([[10, 7, 4], [3, 2, 1]])\n",
      "    >>> a\n",
      "    array([[10,  7,  4],\n",
      "           [ 3,  2,  1]])\n",
      "    >>> np.median(a)\n",
      "    3.5\n",
      "    >>> np.median(a, axis=0)\n",
      "    array([6.5, 4.5, 2.5])\n",
      "    >>> np.median(a, axis=1)\n",
      "    array([7.,  2.])\n",
      "    >>> m = np.median(a, axis=0)\n",
      "    >>> out = np.zeros_like(m)\n",
      "    >>> np.median(a, axis=0, out=m)\n",
      "    array([6.5,  4.5,  2.5])\n",
      "    >>> m\n",
      "    array([6.5,  4.5,  2.5])\n",
      "    >>> b = a.copy()\n",
      "    >>> np.median(b, axis=1, overwrite_input=True)\n",
      "    array([7.,  2.])\n",
      "    >>> assert not np.all(a==b)\n",
      "    >>> b = a.copy()\n",
      "    >>> np.median(b, axis=None, overwrite_input=True)\n",
      "    3.5\n",
      "    >>> assert not np.all(a==b)\n",
      "\n"
     ]
    }
   ],
   "source": [
    "help(np.median)"
   ]
  },
  {
   "cell_type": "code",
   "execution_count": 34,
   "id": "78add895",
   "metadata": {},
   "outputs": [
    {
     "name": "stderr",
     "output_type": "stream",
     "text": [
      "/var/folders/bv/8bbkzq895db366kq27vw262r0000gn/T/ipykernel_19628/4201260348.py:2: DeprecationWarning: the `interpolation=` argument to percentile was renamed to `method=`, which has additional options.\n",
      "Users of the modes 'nearest', 'lower', 'higher', or 'midpoint' are encouraged to review the method they used. (Deprecated NumPy 1.22)\n",
      "  np.percentile(arr, 50, interpolation='higher')\n"
     ]
    },
    {
     "data": {
      "text/plain": [
       "4"
      ]
     },
     "execution_count": 34,
     "metadata": {},
     "output_type": "execute_result"
    }
   ],
   "source": [
    "np.percentile(arr, 50, method='higher')\n",
    "np.percentile(arr, 50, interpolation='higher')"
   ]
  },
  {
   "cell_type": "code",
   "execution_count": 32,
   "id": "616387ad",
   "metadata": {},
   "outputs": [
    {
     "name": "stdout",
     "output_type": "stream",
     "text": [
      "Help on function percentile in module numpy:\n",
      "\n",
      "percentile(a, q, axis=None, out=None, overwrite_input=False, method='linear', keepdims=False, *, interpolation=None)\n",
      "    Compute the q-th percentile of the data along the specified axis.\n",
      "    \n",
      "    Returns the q-th percentile(s) of the array elements.\n",
      "    \n",
      "    Parameters\n",
      "    ----------\n",
      "    a : array_like\n",
      "        Input array or object that can be converted to an array.\n",
      "    q : array_like of float\n",
      "        Percentile or sequence of percentiles to compute, which must be between\n",
      "        0 and 100 inclusive.\n",
      "    axis : {int, tuple of int, None}, optional\n",
      "        Axis or axes along which the percentiles are computed. The\n",
      "        default is to compute the percentile(s) along a flattened\n",
      "        version of the array.\n",
      "    \n",
      "        .. versionchanged:: 1.9.0\n",
      "            A tuple of axes is supported\n",
      "    out : ndarray, optional\n",
      "        Alternative output array in which to place the result. It must\n",
      "        have the same shape and buffer length as the expected output,\n",
      "        but the type (of the output) will be cast if necessary.\n",
      "    overwrite_input : bool, optional\n",
      "        If True, then allow the input array `a` to be modified by intermediate\n",
      "        calculations, to save memory. In this case, the contents of the input\n",
      "        `a` after this function completes is undefined.\n",
      "    method : str, optional\n",
      "        This parameter specifies the method to use for estimating the\n",
      "        percentile.  There are many different methods, some unique to NumPy.\n",
      "        See the notes for explanation.  The options sorted by their R type\n",
      "        as summarized in the H&F paper [1]_ are:\n",
      "    \n",
      "        1. 'inverted_cdf'\n",
      "        2. 'averaged_inverted_cdf'\n",
      "        3. 'closest_observation'\n",
      "        4. 'interpolated_inverted_cdf'\n",
      "        5. 'hazen'\n",
      "        6. 'weibull'\n",
      "        7. 'linear'  (default)\n",
      "        8. 'median_unbiased'\n",
      "        9. 'normal_unbiased'\n",
      "    \n",
      "        The first three methods are discontinuous.  NumPy further defines the\n",
      "        following discontinuous variations of the default 'linear' (7.) option:\n",
      "    \n",
      "        * 'lower'\n",
      "        * 'higher',\n",
      "        * 'midpoint'\n",
      "        * 'nearest'\n",
      "    \n",
      "        .. versionchanged:: 1.22.0\n",
      "            This argument was previously called \"interpolation\" and only\n",
      "            offered the \"linear\" default and last four options.\n",
      "    \n",
      "    keepdims : bool, optional\n",
      "        If this is set to True, the axes which are reduced are left in\n",
      "        the result as dimensions with size one. With this option, the\n",
      "        result will broadcast correctly against the original array `a`.\n",
      "    \n",
      "        .. versionadded:: 1.9.0\n",
      "    \n",
      "    interpolation : str, optional\n",
      "        Deprecated name for the method keyword argument.\n",
      "    \n",
      "        .. deprecated:: 1.22.0\n",
      "    \n",
      "    Returns\n",
      "    -------\n",
      "    percentile : scalar or ndarray\n",
      "        If `q` is a single percentile and `axis=None`, then the result\n",
      "        is a scalar. If multiple percentiles are given, first axis of\n",
      "        the result corresponds to the percentiles. The other axes are\n",
      "        the axes that remain after the reduction of `a`. If the input\n",
      "        contains integers or floats smaller than ``float64``, the output\n",
      "        data-type is ``float64``. Otherwise, the output data-type is the\n",
      "        same as that of the input. If `out` is specified, that array is\n",
      "        returned instead.\n",
      "    \n",
      "    See Also\n",
      "    --------\n",
      "    mean\n",
      "    median : equivalent to ``percentile(..., 50)``\n",
      "    nanpercentile\n",
      "    quantile : equivalent to percentile, except q in the range [0, 1].\n",
      "    \n",
      "    Notes\n",
      "    -----\n",
      "    Given a vector ``V`` of length ``n``, the q-th percentile of ``V`` is\n",
      "    the value ``q/100`` of the way from the minimum to the maximum in a\n",
      "    sorted copy of ``V``. The values and distances of the two nearest\n",
      "    neighbors as well as the `method` parameter will determine the\n",
      "    percentile if the normalized ranking does not match the location of\n",
      "    ``q`` exactly. This function is the same as the median if ``q=50``, the\n",
      "    same as the minimum if ``q=0`` and the same as the maximum if\n",
      "    ``q=100``.\n",
      "    \n",
      "    The optional `method` parameter specifies the method to use when the\n",
      "    desired percentile lies between two indexes ``i`` and ``j = i + 1``.\n",
      "    In that case, we first determine ``i + g``, a virtual index that lies\n",
      "    between ``i`` and ``j``, where  ``i`` is the floor and ``g`` is the\n",
      "    fractional part of the index. The final result is, then, an interpolation\n",
      "    of ``a[i]`` and ``a[j]`` based on ``g``. During the computation of ``g``,\n",
      "    ``i`` and ``j`` are modified using correction constants ``alpha`` and\n",
      "    ``beta`` whose choices depend on the ``method`` used. Finally, note that\n",
      "    since Python uses 0-based indexing, the code subtracts another 1 from the\n",
      "    index internally.\n",
      "    \n",
      "    The following formula determines the virtual index ``i + g``, the location \n",
      "    of the percentile in the sorted sample:\n",
      "    \n",
      "    .. math::\n",
      "        i + g = (q / 100) * ( n - alpha - beta + 1 ) + alpha\n",
      "    \n",
      "    The different methods then work as follows\n",
      "    \n",
      "    inverted_cdf:\n",
      "        method 1 of H&F [1]_.\n",
      "        This method gives discontinuous results:\n",
      "    \n",
      "        * if g > 0 ; then take j\n",
      "        * if g = 0 ; then take i\n",
      "    \n",
      "    averaged_inverted_cdf:\n",
      "        method 2 of H&F [1]_.\n",
      "        This method give discontinuous results:\n",
      "    \n",
      "        * if g > 0 ; then take j\n",
      "        * if g = 0 ; then average between bounds\n",
      "    \n",
      "    closest_observation:\n",
      "        method 3 of H&F [1]_.\n",
      "        This method give discontinuous results:\n",
      "    \n",
      "        * if g > 0 ; then take j\n",
      "        * if g = 0 and index is odd ; then take j\n",
      "        * if g = 0 and index is even ; then take i\n",
      "    \n",
      "    interpolated_inverted_cdf:\n",
      "        method 4 of H&F [1]_.\n",
      "        This method give continuous results using:\n",
      "    \n",
      "        * alpha = 0\n",
      "        * beta = 1\n",
      "    \n",
      "    hazen:\n",
      "        method 5 of H&F [1]_.\n",
      "        This method give continuous results using:\n",
      "    \n",
      "        * alpha = 1/2\n",
      "        * beta = 1/2\n",
      "    \n",
      "    weibull:\n",
      "        method 6 of H&F [1]_.\n",
      "        This method give continuous results using:\n",
      "    \n",
      "        * alpha = 0\n",
      "        * beta = 0\n",
      "    \n",
      "    linear:\n",
      "        method 7 of H&F [1]_.\n",
      "        This method give continuous results using:\n",
      "    \n",
      "        * alpha = 1\n",
      "        * beta = 1\n",
      "    \n",
      "    median_unbiased:\n",
      "        method 8 of H&F [1]_.\n",
      "        This method is probably the best method if the sample\n",
      "        distribution function is unknown (see reference).\n",
      "        This method give continuous results using:\n",
      "    \n",
      "        * alpha = 1/3\n",
      "        * beta = 1/3\n",
      "    \n",
      "    normal_unbiased:\n",
      "        method 9 of H&F [1]_.\n",
      "        This method is probably the best method if the sample\n",
      "        distribution function is known to be normal.\n",
      "        This method give continuous results using:\n",
      "    \n",
      "        * alpha = 3/8\n",
      "        * beta = 3/8\n",
      "    \n",
      "    lower:\n",
      "        NumPy method kept for backwards compatibility.\n",
      "        Takes ``i`` as the interpolation point.\n",
      "    \n",
      "    higher:\n",
      "        NumPy method kept for backwards compatibility.\n",
      "        Takes ``j`` as the interpolation point.\n",
      "    \n",
      "    nearest:\n",
      "        NumPy method kept for backwards compatibility.\n",
      "        Takes ``i`` or ``j``, whichever is nearest.\n",
      "    \n",
      "    midpoint:\n",
      "        NumPy method kept for backwards compatibility.\n",
      "        Uses ``(i + j) / 2``.\n",
      "    \n",
      "    Examples\n",
      "    --------\n",
      "    >>> a = np.array([[10, 7, 4], [3, 2, 1]])\n",
      "    >>> a\n",
      "    array([[10,  7,  4],\n",
      "           [ 3,  2,  1]])\n",
      "    >>> np.percentile(a, 50)\n",
      "    3.5\n",
      "    >>> np.percentile(a, 50, axis=0)\n",
      "    array([6.5, 4.5, 2.5])\n",
      "    >>> np.percentile(a, 50, axis=1)\n",
      "    array([7.,  2.])\n",
      "    >>> np.percentile(a, 50, axis=1, keepdims=True)\n",
      "    array([[7.],\n",
      "           [2.]])\n",
      "    \n",
      "    >>> m = np.percentile(a, 50, axis=0)\n",
      "    >>> out = np.zeros_like(m)\n",
      "    >>> np.percentile(a, 50, axis=0, out=out)\n",
      "    array([6.5, 4.5, 2.5])\n",
      "    >>> m\n",
      "    array([6.5, 4.5, 2.5])\n",
      "    \n",
      "    >>> b = a.copy()\n",
      "    >>> np.percentile(b, 50, axis=1, overwrite_input=True)\n",
      "    array([7.,  2.])\n",
      "    >>> assert not np.all(a == b)\n",
      "    \n",
      "    The different methods can be visualized graphically:\n",
      "    \n",
      "    .. plot::\n",
      "    \n",
      "        import matplotlib.pyplot as plt\n",
      "    \n",
      "        a = np.arange(4)\n",
      "        p = np.linspace(0, 100, 6001)\n",
      "        ax = plt.gca()\n",
      "        lines = [\n",
      "            ('linear', '-', 'C0'),\n",
      "            ('inverted_cdf', ':', 'C1'),\n",
      "            # Almost the same as `inverted_cdf`:\n",
      "            ('averaged_inverted_cdf', '-.', 'C1'),\n",
      "            ('closest_observation', ':', 'C2'),\n",
      "            ('interpolated_inverted_cdf', '--', 'C1'),\n",
      "            ('hazen', '--', 'C3'),\n",
      "            ('weibull', '-.', 'C4'),\n",
      "            ('median_unbiased', '--', 'C5'),\n",
      "            ('normal_unbiased', '-.', 'C6'),\n",
      "            ]\n",
      "        for method, style, color in lines:\n",
      "            ax.plot(\n",
      "                p, np.percentile(a, p, method=method),\n",
      "                label=method, linestyle=style, color=color)\n",
      "        ax.set(\n",
      "            title='Percentiles for different methods and data: ' + str(a),\n",
      "            xlabel='Percentile',\n",
      "            ylabel='Estimated percentile value',\n",
      "            yticks=a)\n",
      "        ax.legend()\n",
      "        plt.show()\n",
      "    \n",
      "    References\n",
      "    ----------\n",
      "    .. [1] R. J. Hyndman and Y. Fan,\n",
      "       \"Sample quantiles in statistical packages,\"\n",
      "       The American Statistician, 50(4), pp. 361-365, 1996\n",
      "\n"
     ]
    }
   ],
   "source": [
    "help(np.percentile)"
   ]
  },
  {
   "cell_type": "code",
   "execution_count": 35,
   "id": "832ec4bb",
   "metadata": {},
   "outputs": [
    {
     "data": {
      "text/plain": [
       "array([1, 2, 3, 4, 5, 6])"
      ]
     },
     "execution_count": 35,
     "metadata": {},
     "output_type": "execute_result"
    }
   ],
   "source": [
    "arr"
   ]
  },
  {
   "cell_type": "code",
   "execution_count": 36,
   "id": "2fa0ee4f",
   "metadata": {},
   "outputs": [
    {
     "data": {
      "text/plain": [
       "array([ 2,  4,  6,  8, 10, 12])"
      ]
     },
     "execution_count": 36,
     "metadata": {},
     "output_type": "execute_result"
    }
   ],
   "source": [
    "arr * 2"
   ]
  },
  {
   "cell_type": "code",
   "execution_count": 37,
   "id": "30a15bb8",
   "metadata": {},
   "outputs": [
    {
     "data": {
      "text/plain": [
       "array([11, 12, 13, 14, 15, 16])"
      ]
     },
     "execution_count": 37,
     "metadata": {},
     "output_type": "execute_result"
    }
   ],
   "source": [
    "arr + 10"
   ]
  },
  {
   "cell_type": "markdown",
   "id": "e9cd0b14",
   "metadata": {},
   "source": [
    "### 標準差  $\\sigma = \\sqrt{\\frac{1}{n} \\sum_{i=1}^n (x_i-\\mu)^2}$\n"
   ]
  },
  {
   "cell_type": "code",
   "execution_count": 38,
   "id": "65cc47d9",
   "metadata": {},
   "outputs": [],
   "source": [
    "mu = arr.mean()"
   ]
  },
  {
   "cell_type": "code",
   "execution_count": 39,
   "id": "5892aea4",
   "metadata": {},
   "outputs": [
    {
     "data": {
      "text/plain": [
       "array([-2.5, -1.5, -0.5,  0.5,  1.5,  2.5])"
      ]
     },
     "execution_count": 39,
     "metadata": {},
     "output_type": "execute_result"
    }
   ],
   "source": [
    "arr - mu"
   ]
  },
  {
   "cell_type": "code",
   "execution_count": 40,
   "id": "6f73c6ad",
   "metadata": {},
   "outputs": [
    {
     "data": {
      "text/plain": [
       "21"
      ]
     },
     "execution_count": 40,
     "metadata": {},
     "output_type": "execute_result"
    }
   ],
   "source": [
    "arr.sum()"
   ]
  },
  {
   "cell_type": "code",
   "execution_count": 42,
   "id": "adb4bdc8",
   "metadata": {},
   "outputs": [
    {
     "data": {
      "text/plain": [
       "0.0"
      ]
     },
     "execution_count": 42,
     "metadata": {},
     "output_type": "execute_result"
    }
   ],
   "source": [
    "(arr - mu).mean()"
   ]
  },
  {
   "cell_type": "code",
   "execution_count": 43,
   "id": "92bfd0a8",
   "metadata": {},
   "outputs": [
    {
     "data": {
      "text/plain": [
       "array([6.25, 2.25, 0.25, 0.25, 2.25, 6.25])"
      ]
     },
     "execution_count": 43,
     "metadata": {},
     "output_type": "execute_result"
    }
   ],
   "source": [
    "np.power((arr - mu), 2)"
   ]
  },
  {
   "cell_type": "code",
   "execution_count": 44,
   "id": "f05e48fb",
   "metadata": {},
   "outputs": [
    {
     "data": {
      "text/plain": [
       "2.9166666666666665"
      ]
     },
     "execution_count": 44,
     "metadata": {},
     "output_type": "execute_result"
    }
   ],
   "source": [
    "np.power((arr - mu), 2).mean()"
   ]
  },
  {
   "cell_type": "code",
   "execution_count": 45,
   "id": "7cd60b03",
   "metadata": {},
   "outputs": [
    {
     "data": {
      "text/plain": [
       "1.707825127659933"
      ]
     },
     "execution_count": 45,
     "metadata": {},
     "output_type": "execute_result"
    }
   ],
   "source": [
    "np.sqrt(\n",
    "    np.power(\n",
    "        (arr - mu), 2\n",
    "    ).mean()\n",
    ")"
   ]
  },
  {
   "cell_type": "code",
   "execution_count": 46,
   "id": "c717327b",
   "metadata": {},
   "outputs": [
    {
     "data": {
      "text/plain": [
       "1.707825127659933"
      ]
     },
     "execution_count": 46,
     "metadata": {},
     "output_type": "execute_result"
    }
   ],
   "source": [
    "arr.std()"
   ]
  },
  {
   "cell_type": "code",
   "execution_count": 47,
   "id": "4b9108ca",
   "metadata": {},
   "outputs": [
    {
     "data": {
      "text/plain": [
       "array([-0.48158653,  0.24133623,  0.73231824,  1.75281579, -0.44089239,\n",
       "        2.53896169, -0.53309834,  0.97387092, -0.75118391,  0.75791025])"
      ]
     },
     "execution_count": 47,
     "metadata": {},
     "output_type": "execute_result"
    }
   ],
   "source": [
    "np.random.normal(0, 1, 10)"
   ]
  },
  {
   "cell_type": "code",
   "execution_count": 48,
   "id": "5f209f8e",
   "metadata": {},
   "outputs": [
    {
     "data": {
      "text/plain": [
       "array([1, 2, 3, 4, 5, 6])"
      ]
     },
     "execution_count": 48,
     "metadata": {},
     "output_type": "execute_result"
    }
   ],
   "source": [
    "arr"
   ]
  },
  {
   "cell_type": "code",
   "execution_count": 49,
   "id": "69aeafac",
   "metadata": {},
   "outputs": [
    {
     "data": {
      "text/plain": [
       "array([False, False, False,  True,  True,  True])"
      ]
     },
     "execution_count": 49,
     "metadata": {},
     "output_type": "execute_result"
    }
   ],
   "source": [
    "arr > 3"
   ]
  },
  {
   "cell_type": "code",
   "execution_count": 50,
   "id": "e801910a",
   "metadata": {},
   "outputs": [
    {
     "data": {
      "text/plain": [
       "array([ True,  True,  True, False, False, False])"
      ]
     },
     "execution_count": 50,
     "metadata": {},
     "output_type": "execute_result"
    }
   ],
   "source": [
    "~(arr > 3)"
   ]
  },
  {
   "cell_type": "code",
   "execution_count": 52,
   "id": "48772e80",
   "metadata": {},
   "outputs": [
    {
     "data": {
      "text/plain": [
       "array([False, False,  True,  True,  True,  True])"
      ]
     },
     "execution_count": 52,
     "metadata": {},
     "output_type": "execute_result"
    }
   ],
   "source": [
    "arr > 2"
   ]
  },
  {
   "cell_type": "code",
   "execution_count": 53,
   "id": "61c46219",
   "metadata": {},
   "outputs": [
    {
     "data": {
      "text/plain": [
       "array([ True,  True,  True,  True, False, False])"
      ]
     },
     "execution_count": 53,
     "metadata": {},
     "output_type": "execute_result"
    }
   ],
   "source": [
    "arr < 5"
   ]
  },
  {
   "cell_type": "code",
   "execution_count": 54,
   "id": "3e5250c2",
   "metadata": {},
   "outputs": [
    {
     "data": {
      "text/plain": [
       "array([False, False,  True,  True, False, False])"
      ]
     },
     "execution_count": 54,
     "metadata": {},
     "output_type": "execute_result"
    }
   ],
   "source": [
    "(arr > 2) & (arr < 5)"
   ]
  },
  {
   "cell_type": "code",
   "execution_count": 55,
   "id": "458e68f3",
   "metadata": {},
   "outputs": [
    {
     "data": {
      "text/plain": [
       "{3, 4, 5, 6}"
      ]
     },
     "execution_count": 55,
     "metadata": {},
     "output_type": "execute_result"
    }
   ],
   "source": [
    "set([3, 4, 5, 6])"
   ]
  },
  {
   "cell_type": "code",
   "execution_count": 56,
   "id": "7317ccd8",
   "metadata": {},
   "outputs": [
    {
     "data": {
      "text/plain": [
       "{1, 2, 3, 4}"
      ]
     },
     "execution_count": 56,
     "metadata": {},
     "output_type": "execute_result"
    }
   ],
   "source": [
    "set([1, 2, 3, 4])"
   ]
  },
  {
   "cell_type": "code",
   "execution_count": 57,
   "id": "07f1f85f",
   "metadata": {},
   "outputs": [
    {
     "data": {
      "text/plain": [
       "{3, 4}"
      ]
     },
     "execution_count": 57,
     "metadata": {},
     "output_type": "execute_result"
    }
   ],
   "source": [
    "set([3, 4, 5, 6]) & set([1, 2, 3, 4])"
   ]
  },
  {
   "cell_type": "code",
   "execution_count": 58,
   "id": "61b27cba",
   "metadata": {},
   "outputs": [
    {
     "data": {
      "text/plain": [
       "{1, 2, 3, 4, 5, 6}"
      ]
     },
     "execution_count": 58,
     "metadata": {},
     "output_type": "execute_result"
    }
   ],
   "source": [
    "set([3, 4, 5, 6]) | set([1, 2, 3, 4])"
   ]
  },
  {
   "cell_type": "code",
   "execution_count": 59,
   "id": "ea4f7200",
   "metadata": {},
   "outputs": [
    {
     "data": {
      "text/plain": [
       "{5, 6}"
      ]
     },
     "execution_count": 59,
     "metadata": {},
     "output_type": "execute_result"
    }
   ],
   "source": [
    "set([3, 4, 5, 6]) - set([1, 2, 3, 4])"
   ]
  },
  {
   "cell_type": "code",
   "execution_count": 60,
   "id": "6c2271ef",
   "metadata": {},
   "outputs": [
    {
     "data": {
      "text/plain": [
       "array([ True,  True,  True,  True,  True,  True])"
      ]
     },
     "execution_count": 60,
     "metadata": {},
     "output_type": "execute_result"
    }
   ],
   "source": [
    "(arr > 2) | (arr < 5)"
   ]
  },
  {
   "cell_type": "code",
   "execution_count": 61,
   "id": "6fb11038",
   "metadata": {},
   "outputs": [
    {
     "data": {
      "text/plain": [
       "array([ True,  True, False, False,  True,  True])"
      ]
     },
     "execution_count": 61,
     "metadata": {},
     "output_type": "execute_result"
    }
   ],
   "source": [
    "(arr > 2) ^ (arr < 5)"
   ]
  },
  {
   "cell_type": "code",
   "execution_count": 62,
   "id": "a528257b",
   "metadata": {},
   "outputs": [
    {
     "data": {
      "text/plain": [
       "array([False, False,  True,  True, False, False])"
      ]
     },
     "execution_count": 62,
     "metadata": {},
     "output_type": "execute_result"
    }
   ],
   "source": [
    "(arr > 2) & (arr < 5)"
   ]
  },
  {
   "cell_type": "code",
   "execution_count": 63,
   "id": "006d3daa",
   "metadata": {},
   "outputs": [
    {
     "data": {
      "text/plain": [
       "array([False, False, False, False, False, False])"
      ]
     },
     "execution_count": 63,
     "metadata": {},
     "output_type": "execute_result"
    }
   ],
   "source": [
    "~(arr > 2) & ~(arr < 5)"
   ]
  },
  {
   "cell_type": "code",
   "execution_count": null,
   "id": "e6e9ccf6",
   "metadata": {},
   "outputs": [],
   "source": []
  }
 ],
 "metadata": {
  "kernelspec": {
   "display_name": "Python 3 (ipykernel)",
   "language": "python",
   "name": "python3"
  },
  "language_info": {
   "codemirror_mode": {
    "name": "ipython",
    "version": 3
   },
   "file_extension": ".py",
   "mimetype": "text/x-python",
   "name": "python",
   "nbconvert_exporter": "python",
   "pygments_lexer": "ipython3",
   "version": "3.8.2"
  }
 },
 "nbformat": 4,
 "nbformat_minor": 5
}
